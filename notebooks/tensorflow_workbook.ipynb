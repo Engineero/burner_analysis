{
 "cells": [
  {
   "cell_type": "code",
   "execution_count": 1,
   "metadata": {
    "collapsed": false
   },
   "outputs": [],
   "source": [
    "import pickle\n",
    "import os\n",
    "import tensorflow as tf\n",
    "import matplotlib.pyplot as plt\n",
    "# import mpl_toolkits.mplot3d as Axes3D\n",
    "\n",
    "from database import *\n",
    "from sklearn.manifold import TSNE\n",
    "\n",
    "%matplotlib inline"
   ]
  },
  {
   "cell_type": "markdown",
   "metadata": {},
   "source": [
    "# Datasets\n",
    "\n",
    "Generate training, testing, and validation datasets"
   ]
  },
  {
   "cell_type": "code",
   "execution_count": 2,
   "metadata": {
    "collapsed": true
   },
   "outputs": [],
   "source": [
    "# Import data from database\n",
    "step = 1/10e3  # microphone sample period, sec\n",
    "mic_list = (\"Ambient\", \"Mic 0\", \"Mic 1\", \"Mic 2\", \"Mic 3\")  # for setting the legend\n",
    "fs = 1/step  # sample rate, Hz"
   ]
  },
  {
   "cell_type": "code",
   "execution_count": 57,
   "metadata": {
    "collapsed": false
   },
   "outputs": [
    {
     "name": "stdout",
     "output_type": "stream",
     "text": [
      "Number of rows: 42331\n",
      "Keys: ['temperature', 'staticP', 'dateTimeStamp', 'opPointAct', 'atmosphericP', 'flameStatus', 'opPointDes', 'dynamicP']\n",
      "Loading data ................................................... done!\n",
      "Elapsed time: 54.44733872698271 sec\n"
     ]
    }
   ],
   "source": [
    "# Load data from the database\n",
    "# host = \"mysql.ecn.purdue.edu\"  # 128.46.154.164\n",
    "# user = \"op_point_test\"\n",
    "# database = \"op_point_test\"\n",
    "host = 'localhost'\n",
    "user = 'root'\n",
    "database = 'mysql'\n",
    "table_name = '100_op_point_test'\n",
    "password = 'admin'\n",
    "# with open(\"password.txt\", \"r\") as f:\n",
    "#   password = f.read().rstrip()\n",
    "eng = connect_to_db(host, user, password, database)\n",
    "tic = timeit.default_timer()\n",
    "data = import_data(eng, table_name)\n",
    "toc = timeit.default_timer()\n",
    "if eng.open:\n",
    "    eng.close()\n",
    "print(\"Elapsed time: {} sec\".format(toc-tic))"
   ]
  },
  {
   "cell_type": "code",
   "execution_count": 3,
   "metadata": {
    "collapsed": false
   },
   "outputs": [],
   "source": [
    "# Import processed data from pickle\n",
    "processed_data = []\n",
    "for mic in mic_list:\n",
    "    fname = os.path.join('..', 'Processed', 'short_fft_waterfall_{}.pickle'.format(mic))\n",
    "#     fname = os.path.join('.', 'Processed', 'short_fft_waterfall_softmax_{}.pickle'.format(mic))\n",
    "    processed_data.append(pickle.load(open(fname, 'rb')))"
   ]
  },
  {
   "cell_type": "code",
   "execution_count": 4,
   "metadata": {
    "collapsed": false
   },
   "outputs": [
    {
     "name": "stdout",
     "output_type": "stream",
     "text": [
      "[1 1 1 ..., 1 1 1]\n"
     ]
    }
   ],
   "source": [
    "fname = os.path.join('..', 'Processed', 'K-means_results_4_centroids.pickle')\n",
    "kmeans_data = pickle.load(open(fname, 'rb'))\n",
    "assignments = kmeans_data['assignments']\n",
    "print(assignments)"
   ]
  },
  {
   "cell_type": "code",
   "execution_count": 20,
   "metadata": {
    "collapsed": false
   },
   "outputs": [
    {
     "name": "stdout",
     "output_type": "stream",
     "text": [
      "[ 0.02470229  0.02452491  0.02547168  0.02053213  0.02165319]\n"
     ]
    }
   ],
   "source": [
    "print(np.power(10, np.mean([row['res'][0,:] for row in processed_data], axis=1)/20))"
   ]
  },
  {
   "cell_type": "raw",
   "metadata": {
    "collapsed": false
   },
   "source": [
    "dataset = []\n",
    "for num in range(data['opPointAct'].shape[0]):\n",
    "    start = num*100\n",
    "    vec = np.concatenate((data['flameStatus'][num],\n",
    "                          data['opPointAct'][num],\n",
    "                          data['staticP'][num],\n",
    "#                           data['temperature'][num],\n",
    "#                           np.concatenate([row['res'][num,:] for row in processed_data])), axis=0)\n",
    "#                           np.std([row['res'][num,:] for row in processed_data], axis=1),\n",
    "                          np.power(10, np.mean([row['res'][num,:] for row in processed_data], axis=1)/20)), axis=0)\n",
    "#                           np.concatenate([row for row in data['dynamicP'][:, start:start+100]])), axis=0)\n",
    "    dataset.append(vec)\n",
    "    \n",
    "dataset = np.array(dataset)\n",
    "dataset.shape"
   ]
  },
  {
   "cell_type": "code",
   "execution_count": 27,
   "metadata": {
    "collapsed": false
   },
   "outputs": [
    {
     "data": {
      "text/plain": [
       "(42332, 16)"
      ]
     },
     "execution_count": 27,
     "metadata": {},
     "output_type": "execute_result"
    }
   ],
   "source": [
    "# Get dataset for 16-feature k-means clustering\n",
    "fname = os.path.join('..', 'Processed', 'tSNE_dataset_17_feat.pickle')\n",
    "dataset = pickle.load(open(fname, 'rb'))\n",
    "dataset = dataset['data'][:, 1:]  # remove existing labels taken from 11-feature k-means clustering\n",
    "dataset.shape"
   ]
  },
  {
   "cell_type": "code",
   "execution_count": 28,
   "metadata": {
    "collapsed": false
   },
   "outputs": [
    {
     "data": {
      "text/plain": [
       "(42332, 11)"
      ]
     },
     "execution_count": 28,
     "metadata": {},
     "output_type": "execute_result"
    }
   ],
   "source": [
    "dataset = dataset[:, :-5]\n",
    "dataset.shape"
   ]
  },
  {
   "cell_type": "code",
   "execution_count": 29,
   "metadata": {
    "collapsed": false
   },
   "outputs": [
    {
     "name": "stdout",
     "output_type": "stream",
     "text": [
      "(42332, 4)\n",
      "Assignments: [1 1 1 1 3 1 1 1 1 1]\n",
      "One-hot encoded:\n",
      "[[ 0.  1.  0.  0.]\n",
      " [ 0.  1.  0.  0.]\n",
      " [ 0.  1.  0.  0.]\n",
      " [ 0.  1.  0.  0.]\n",
      " [ 0.  0.  0.  1.]\n",
      " [ 0.  1.  0.  0.]\n",
      " [ 0.  1.  0.  0.]\n",
      " [ 0.  1.  0.  0.]\n",
      " [ 0.  1.  0.  0.]\n",
      " [ 0.  1.  0.  0.]]\n"
     ]
    }
   ],
   "source": [
    "labelset = np.zeros((len(assignments), np.max(assignments)+1), dtype=np.float32)\n",
    "for i in range(len(assignments)):\n",
    "    labelset[i, assignments[i]] = 1  # encode assignments as one-hot vectors\n",
    "print(labelset.shape)\n",
    "print('Assignments: {}'.format(assignments[1000:1010]))\n",
    "print('One-hot encoded:\\n{}'.format(labelset[1000:1010]))"
   ]
  },
  {
   "cell_type": "code",
   "execution_count": 30,
   "metadata": {
    "collapsed": false
   },
   "outputs": [],
   "source": [
    "input_size = dataset.shape[1]\n",
    "num_samples = dataset.shape[0]\n",
    "batch_size = 64\n",
    "num_unrollings = 10"
   ]
  },
  {
   "cell_type": "code",
   "execution_count": 31,
   "metadata": {
    "collapsed": false
   },
   "outputs": [],
   "source": [
    "output_size = labelset.shape[1]"
   ]
  },
  {
   "cell_type": "code",
   "execution_count": 32,
   "metadata": {
    "collapsed": false
   },
   "outputs": [],
   "source": [
    "class BatchGenerator(object):\n",
    "    def __init__(self, data, batch_size, num_unrollings):\n",
    "        self._data = data\n",
    "        self._num_samples = data.shape[0]\n",
    "        self._batch_size = batch_size\n",
    "        self._num_unrollings = num_unrollings\n",
    "        segment = self._num_samples // batch_size\n",
    "        self._offset = 0\n",
    "        self._last_batch = self._next_batch()\n",
    "\n",
    "    def _next_batch(self):\n",
    "        \"\"\"Generate a single batch from the current cursor position in the data.\"\"\"\n",
    "        batch = self._data[self._offset:self._offset+self._batch_size, :]\n",
    "        self._offset += self._batch_size\n",
    "        if self._num_samples - self._offset < self._batch_size:\n",
    "            self._offset = 0\n",
    "        return batch\n",
    "\n",
    "    def next(self):\n",
    "        \"\"\"Generate the next array of batches from the data. The array consists of\n",
    "        the last batch of the previous array, followed by num_unrollings new ones.\n",
    "        \"\"\"\n",
    "        batches = [self._last_batch]\n",
    "        for step in range(self._num_unrollings):\n",
    "            batches.append(self._next_batch())\n",
    "        self._last_batch = batches[-1]\n",
    "        return batches"
   ]
  },
  {
   "cell_type": "code",
   "execution_count": 33,
   "metadata": {
    "collapsed": true
   },
   "outputs": [],
   "source": [
    "train_size = np.int(0.7*num_samples)\n",
    "valid_size = len(dataset) - train_size\n",
    "train_batches = BatchGenerator(dataset[:train_size,:], batch_size, num_unrollings)\n",
    "valid_batches = BatchGenerator(dataset[train_size:,:], 1, 1)"
   ]
  },
  {
   "cell_type": "code",
   "execution_count": 34,
   "metadata": {
    "collapsed": false
   },
   "outputs": [],
   "source": [
    "train_label_batches = BatchGenerator(labelset[:train_size,:], batch_size, num_unrollings)\n",
    "valid_label_batches = BatchGenerator(labelset[train_size:,:], 1, 1)"
   ]
  },
  {
   "cell_type": "code",
   "execution_count": 35,
   "metadata": {
    "collapsed": true
   },
   "outputs": [],
   "source": [
    "def logprob(predictions, labels):\n",
    "    \"\"\"Log-probability of the true labels in a predicted batch.\"\"\"\n",
    "    predictions[predictions < 1e-10] = 1e-10\n",
    "    return np.sum(np.multiply(labels, -np.log(predictions))) / labels.shape[0]"
   ]
  },
  {
   "cell_type": "markdown",
   "metadata": {},
   "source": [
    "# LSTM RNN Definition\n",
    "\n",
    "Define the long short-term memory (LSTM) recurrent neural network (RNN). Borrowing heavily from the Deep Learning Udacity course."
   ]
  },
  {
   "cell_type": "code",
   "execution_count": 36,
   "metadata": {
    "collapsed": false
   },
   "outputs": [],
   "source": [
    "num_nodes = 64  #TODO tune this!\n",
    "num_steps = 1001\n",
    "\n",
    "graph = tf.Graph()\n",
    "with graph.as_default():\n",
    "    # Parameters\n",
    "    # Combined input, forget, memory cell, and output weights for input and previous state. Also biases.\n",
    "    ifcox = tf.Variable(tf.truncated_normal([input_size, 4*num_nodes], 0.0, 1/np.sqrt(input_size)))\n",
    "    ifcom = tf.Variable(tf.truncated_normal([num_nodes, 4*num_nodes], 0.0, 1/np.sqrt(input_size)))\n",
    "    ifcob = tf.Variable(tf.zeros([1, 4*num_nodes]))\n",
    "    # Variables saving state across unrollings.\n",
    "    saved_output = tf.Variable(tf.zeros([batch_size, num_nodes]), trainable=False)\n",
    "    saved_state = tf.Variable(tf.zeros([batch_size, num_nodes]), trainable=False)\n",
    "    # Classifier weights and biases.\n",
    "    w = tf.Variable(tf.truncated_normal([num_nodes, output_size], 0.0, 1/np.sqrt(output_size)))\n",
    "    b = tf.Variable(tf.zeros([output_size]))\n",
    "    \n",
    "    # Create saver\n",
    "    saver = tf.train.Saver()\n",
    "    \n",
    "    # Definition of the cell computation\n",
    "    def lstm_cell(i, o, state):\n",
    "        \"\"\"Create a LSTM cell. See e.g.: http://arxiv.org/pdf/1402.1128v1.pdf\n",
    "        Note that in this formulation, we omit the various connections between the\n",
    "        previous state and the gates.\"\"\"\n",
    "        combined = tf.matmul(i, ifcox) + tf.matmul(o, ifcom) + ifcob\n",
    "        input_gate = tf.sigmoid(combined[:, :num_nodes])\n",
    "        forget_gate = tf.sigmoid(combined[:, num_nodes:2*num_nodes])\n",
    "        update = combined[:, 2*num_nodes:3*num_nodes]\n",
    "        state = forget_gate * state + input_gate * tf.tanh(update)\n",
    "        output_gate = tf.sigmoid(combined[:, 3*num_nodes:])\n",
    "        return output_gate * tf.tanh(state), state\n",
    "    \n",
    "    # Input data\n",
    "    train_data = list()\n",
    "    train_labels = list()\n",
    "    for _ in range(num_unrollings + 1):\n",
    "        train_data.append(tf.placeholder(tf.float32, shape=[batch_size, input_size]))\n",
    "        train_labels.append(tf.placeholder(tf.float32, shape=[batch_size, output_size]))\n",
    "    train_inputs = train_data[:num_unrollings]\n",
    "    train_outputs = train_labels[1:]  # labels are shifted by one time step.\n",
    "    \n",
    "    # Unrolled LSTM loop\n",
    "    outputs = list()\n",
    "    output = saved_output\n",
    "    state = saved_state\n",
    "    for i in train_inputs:\n",
    "        output, state = lstm_cell(i, output, state)\n",
    "        outputs.append(output)\n",
    "    \n",
    "    # Saving state across unrollings\n",
    "    with tf.control_dependencies([saved_output.assign(output),\n",
    "                                  saved_state.assign(state)]):\n",
    "        # Classifier\n",
    "        logits = tf.nn.xw_plus_b(tf.concat(0, outputs), w, b)\n",
    "        loss = tf.reduce_mean(tf.nn.softmax_cross_entropy_with_logits(logits,\n",
    "                tf.concat(0, train_outputs)))\n",
    "#         loss = tf.reduce_mean(tf.nn.sparse_softmax_cross_entropy_with_logits(logits,\n",
    "#                               tf.concat(0, train_outputs)))\n",
    "    \n",
    "    # Optimizer\n",
    "    global_step = tf.Variable(0)\n",
    "#     learning_rate = tf.train.exponential_decay(10.0, global_step, 2*num_steps//3, 0.1, staircase=True)\n",
    "#     optimizer = tf.train.GradientDescentOptimizer(learning_rate)\n",
    "    optimizer = tf.train.AdamOptimizer()\n",
    "    gradients, v = zip(*optimizer.compute_gradients(loss))\n",
    "    gradients, _ = tf.clip_by_global_norm(gradients, 1.25)\n",
    "    optimizer = optimizer.apply_gradients(zip(gradients, v), global_step=global_step)\n",
    "    \n",
    "    # Predictions\n",
    "    train_prediction = tf.nn.softmax(logits)\n",
    "    \n",
    "    # Sampling and validation eval: batch 1, no unrolling.\n",
    "    sample_input = tf.placeholder(tf.float32, shape=[1, input_size])\n",
    "    saved_sample_output = tf.Variable(tf.zeros([1, num_nodes]))\n",
    "    saved_sample_state = tf.Variable(tf.zeros([1, num_nodes]))\n",
    "    reset_sample_state = tf.group(saved_sample_output.assign(tf.zeros([1, num_nodes])),\n",
    "            saved_sample_state.assign(tf.zeros([1, num_nodes])))\n",
    "    sample_output, sample_state = lstm_cell(sample_input, saved_sample_output,\n",
    "            saved_sample_state)\n",
    "    with tf.control_dependencies([saved_sample_output.assign(sample_output),\n",
    "                                  saved_sample_state.assign(sample_state)]):\n",
    "        sample_prediction = tf.nn.softmax(tf.nn.xw_plus_b(sample_output, w, b))"
   ]
  },
  {
   "cell_type": "markdown",
   "metadata": {},
   "source": [
    "# Run\n",
    "\n",
    "Train the network on the dataset and observe the performance"
   ]
  },
  {
   "cell_type": "code",
   "execution_count": 37,
   "metadata": {
    "collapsed": false
   },
   "outputs": [
    {
     "name": "stdout",
     "output_type": "stream",
     "text": [
      "Initialized.\n",
      "Average loss at step 0: 1.9802360534667969\n",
      "Minibatch perplexity: 7.244451479785369\n",
      "Average loss at step 100: 0.908222596719861\n",
      "Minibatch perplexity: 8.074085952531323\n",
      "Average loss at step 200: 0.7235710065811872\n",
      "Minibatch perplexity: 1.4277551994391227\n",
      "Average loss at step 300: 0.6520721229910851\n",
      "Minibatch perplexity: 2.6659510878330988\n",
      "Average loss at step 400: 0.5258527206070721\n",
      "Minibatch perplexity: 2.3212314786564456\n",
      "Average loss at step 500: 0.49040923250839114\n",
      "Minibatch perplexity: 2.3464853781255144\n",
      "Average loss at step 600: 0.44495711240917446\n",
      "Minibatch perplexity: 1.3677029687822646\n",
      "Average loss at step 700: 0.39484124260023234\n",
      "Minibatch perplexity: 1.0363157340256466\n",
      "Average loss at step 800: 0.42329671419225634\n",
      "Minibatch perplexity: 2.1394216302686\n",
      "Average loss at step 900: 0.3871274442807771\n",
      "Minibatch perplexity: 1.2316953420122596\n",
      "Average loss at step 1000: 0.3548084774054587\n",
      "Minibatch perplexity: 1.5075047478539731\n",
      "Validation set perplexity: 1.4084211214840472\n",
      "Validation set prediction accuracy: 87.02362204724409%\n",
      "Model saved in file: ./models/lstm.ckpt\n"
     ]
    }
   ],
   "source": [
    "summary_frequency = 100\n",
    "mean_loss = 0\n",
    "\n",
    "with tf.Session(graph=graph) as session:\n",
    "    tf.initialize_all_variables().run()\n",
    "    print('Initialized.')\n",
    "    for step in range(num_steps):\n",
    "        # Generate next training batch\n",
    "        batches = train_batches.next()\n",
    "        labels = train_label_batches.next()\n",
    "        \n",
    "        # Generate feed_dict\n",
    "        feed_dict = dict()\n",
    "        for i in range(num_unrollings + 1):\n",
    "            feed_dict[train_data[i]] = batches[i]\n",
    "            feed_dict[train_labels[i]] = labels[i]\n",
    "        _, l, predictions = session.run(\n",
    "                [optimizer, loss, train_prediction], feed_dict=feed_dict)\n",
    "#                 [optimizer, loss, train_prediction, learning_rate], feed_dict=feed_dict)\n",
    "        mean_loss += l\n",
    "        \n",
    "        # Update to the user periodically\n",
    "        if step % summary_frequency == 0:\n",
    "            # Output some information about our training performance\n",
    "            if step > 0:\n",
    "                mean_loss = mean_loss / summary_frequency\n",
    "            # The mean loss is an estimate of the loss over the last few batches.\n",
    "            print('Average loss at step {}: {}'.format(step, mean_loss))\n",
    "#             print('Average loss at step {}: {} learning rate: {}'.format(step, mean_loss, lr))            \n",
    "            mean_loss = 0\n",
    "            print('Minibatch perplexity: {}'.format(float(np.exp(logprob(predictions,\n",
    "                    np.concatenate(labels[1:], axis=0))))))\n",
    "\n",
    "    # Measure validation set perplexity.\n",
    "    reset_sample_state.run()\n",
    "    valid_logprob = 0\n",
    "    valid_percent = 0\n",
    "    for num in range(valid_size):\n",
    "        b = valid_batches.next()\n",
    "        l = valid_label_batches.next()\n",
    "        predictions = sample_prediction.eval({sample_input: b[0]})\n",
    "        valid_logprob = valid_logprob + logprob(predictions, l[1])\n",
    "        if np.argmax(l) == np.argmax(predictions):\n",
    "            valid_percent += 1\n",
    "    print('Validation set perplexity: {}'.format(float(np.exp(valid_logprob / valid_size))))\n",
    "    print('Validation set prediction accuracy: {}%'.format(100*valid_percent / valid_size))\n",
    "    \n",
    "    save_path = saver.save(session, './models/lstm.ckpt')\n",
    "    print('Model saved in file: {}'.format(save_path))"
   ]
  },
  {
   "cell_type": "markdown",
   "metadata": {},
   "source": [
    "# Analyze\n",
    "\n",
    "Analyze the performance and see what we can do with it"
   ]
  },
  {
   "cell_type": "code",
   "execution_count": 238,
   "metadata": {
    "collapsed": false
   },
   "outputs": [
    {
     "name": "stdout",
     "output_type": "stream",
     "text": [
      "Model restored.\n",
      "Logprob prediction accuracy: 3.27499509365031\n",
      "Logprob prediction accuracy: 4.305346330370888\n",
      "Logprob prediction accuracy: 5.848128092794755\n",
      "Logprob prediction accuracy: 8.95032183870408\n",
      "Logprob prediction accuracy: 21.192523869801214\n",
      "Logprob prediction accuracy: 34.57237037931048\n",
      "Logprob prediction accuracy: 33.55192325402382\n",
      "Logprob prediction accuracy: 22.4291848650905\n",
      "Logprob prediction accuracy: 11.539374057178454\n",
      "Logprob prediction accuracy: 5.9423446453489825\n"
     ]
    }
   ],
   "source": [
    "#TODO\n",
    "with tf.Session(graph=graph) as session:\n",
    "    saver.restore(session, './tmp/model.ckpt')\n",
    "    print('Model restored.')\n",
    "    reset_sample_state.run()\n",
    "    valid_logprob = 0\n",
    "    for num in range(10):\n",
    "        b = valid_batches.next()\n",
    "        l = valid_label_batches.next()\n",
    "        predictions = sample_prediction.eval({sample_input: b[0]})\n",
    "        valid_logprob = logprob(predictions, l[1])\n",
    "        print('Logprob prediction accuracy: {}'.format(np.exp(valid_logprob)))"
   ]
  },
  {
   "cell_type": "markdown",
   "metadata": {},
   "source": [
    "# K-means clustering of dataset\n",
    "\n",
    "Attempt to divide the data into `n` seperable clusters."
   ]
  },
  {
   "cell_type": "code",
   "execution_count": 13,
   "metadata": {
    "collapsed": false
   },
   "outputs": [
    {
     "name": "stdout",
     "output_type": "stream",
     "text": [
      "[403, 1004, 1310, 1711, 2919, 4018, 4523, 5524, 6225, 7226, 7527, 8766, 9967, 10506, 12018, 13219, 13922, 14447, 14453, 15045, 15046, 16039, 17120, 19823, 20324, 20330, 20742, 21487, 22683, 23789, 24305, 24807, 25495, 26014, 27343, 28557, 28864, 29743, 30096, 30798, 32015, 32221, 33522, 33723, 35035, 35446, 36522, 37428, 37742, 38451, 38903, 39704, 39705, 40212, 40213, 40219, 41358]\n"
     ]
    }
   ],
   "source": [
    "blow_outs = [ind for ind in range(num_samples) if dataset[ind, 0] == 0]\n",
    "print(blow_outs)"
   ]
  },
  {
   "cell_type": "code",
   "execution_count": 14,
   "metadata": {
    "collapsed": true
   },
   "outputs": [],
   "source": [
    "dist_history = []\n",
    "n_clusters = 4"
   ]
  },
  {
   "cell_type": "code",
   "execution_count": 26,
   "metadata": {
    "collapsed": false
   },
   "outputs": [],
   "source": [
    "n_clusters = 4\n",
    "def choose_random_centroids(samples, n_clusters):\n",
    "    \"\"\"Step 0: Initialisation: Select `num_clusters` number of random points.\"\"\"\n",
    "    random_indices = tf.random_shuffle(tf.range(0, num_samples))\n",
    "    begin = [0,]\n",
    "    size = [n_clusters,]\n",
    "    size[0] = n_clusters\n",
    "    centroid_indices = tf.slice(random_indices, begin, size)\n",
    "    initial_centroids = tf.gather(samples, centroid_indices)\n",
    "    return initial_centroids\n",
    "\n",
    "tf.reset_default_graph()\n",
    "kmeans = tf.Graph()\n",
    "with kmeans.as_default():\n",
    "    # def configure_kmeans(n_clusters):\n",
    "    points = tf.constant(dataset[:num_samples])\n",
    "    cluster_assignments = tf.Variable(tf.zeros([num_samples], dtype=tf.int64))\n",
    "\n",
    "    # Initialize centroids to locations of `n_clusters` random samples\n",
    "    centroids = tf.Variable(choose_random_centroids(points, n_clusters))\n",
    "\n",
    "    # Replicate to N copies of each centroid and K copies of each\n",
    "    # point, then subtract and compute the sum of squared distances.\n",
    "    rep_centroids = tf.reshape(tf.tile(centroids, [num_samples, 1]), [num_samples, n_clusters, input_size])\n",
    "    rep_points = tf.reshape(tf.tile(points, [1, n_clusters]), [num_samples, n_clusters, input_size])\n",
    "\n",
    "    #TODO modify the cost function for k-means clustering.\n",
    "    sum_squares = tf.reduce_sum(tf.square(rep_points - rep_centroids),\n",
    "                                reduction_indices=2)\n",
    "\n",
    "    # Use argmin to select the lowest-distance point\n",
    "    best_centroids = tf.argmin(sum_squares, 1)\n",
    "    did_assignments_change = tf.reduce_any(tf.not_equal(best_centroids, \n",
    "                                                        cluster_assignments))\n",
    "\n",
    "    def bucket_mean(data, bucket_ids, num_buckets):\n",
    "        total = tf.unsorted_segment_sum(data, bucket_ids, num_buckets)\n",
    "        count = tf.unsorted_segment_sum(tf.ones_like(data), bucket_ids, num_buckets)\n",
    "        return total / count\n",
    "\n",
    "    means = bucket_mean(points, best_centroids, n_clusters)\n",
    "\n",
    "    # Do not write to the assigned clusters variable until after\n",
    "    # computing whether the assignments have changed - hence with_dependencies\n",
    "    with tf.control_dependencies([did_assignments_change]):\n",
    "        do_updates = tf.group(\n",
    "            centroids.assign(means),\n",
    "            cluster_assignments.assign(best_centroids))"
   ]
  },
  {
   "cell_type": "code",
   "execution_count": 27,
   "metadata": {
    "collapsed": false
   },
   "outputs": [
    {
     "name": "stdout",
     "output_type": "stream",
     "text": [
      "0% complete ...\n",
      "Working ..... 6 clusters in 3.505222392000178 seconds 87 iterations\n",
      "Working ...... 6 clusters in 4.1733507140002075 seconds 113 iterations\n",
      "Working .......... 6 clusters in 7.372415365000052 seconds 200 iterations\n",
      "Working ... 6 clusters in 2.094004158000189 seconds 57 iterations\n",
      "Working ..... 6 clusters in 3.609043653000299 seconds 98 iterations\n",
      "Working ....... 6 clusters in 4.512612783999884 seconds 122 iterations\n",
      "Working .... 6 clusters in 2.63704847300005 seconds 72 iterations\n",
      "Working ... 6 clusters in 1.8130054230000496 seconds 49 iterations\n",
      "Working ...... 6 clusters in 3.8319565340002555 seconds 103 iterations\n",
      "Working ...... 6 clusters in 3.7734121119997326 seconds 103 iterations\n",
      "Working .... 6 clusters in 2.631597520000014 seconds 71 iterations\n",
      "Working ...... 6 clusters in 4.291422551000323 seconds 116 iterations\n",
      "Working ..... 6 clusters in 3.3669631530001425 seconds 91 iterations\n",
      "Working ... 6 clusters in 1.988100504999693 seconds 53 iterations\n",
      "Working ... 6 clusters in 1.584634869999718 seconds 43 iterations\n",
      "Working ... 6 clusters in 1.5929465039998831 seconds 43 iterations\n",
      "10% complete ...\n",
      "Working ...... 6 clusters in 4.109533593999913 seconds 111 iterations\n",
      "Working ........ 6 clusters in 5.9278358490000755 seconds 160 iterations\n",
      "Working ..... 6 clusters in 3.329162097000335 seconds 90 iterations\n",
      "Working .... 6 clusters in 2.8430300830000306 seconds 75 iterations\n",
      "Working ...... 6 clusters in 4.143138232000183 seconds 110 iterations\n",
      "Working .... 6 clusters in 2.7066703740001685 seconds 72 iterations\n",
      "Working ......... 6 clusters in 6.1826621249997515 seconds 166 iterations\n",
      "Working .... 6 clusters in 2.6559571849998065 seconds 72 iterations\n",
      "Working ..... 6 clusters in 3.6989355690002412 seconds 99 iterations\n",
      "Working ........ 6 clusters in 5.249217233999843 seconds 141 iterations\n",
      "Working ....... 6 clusters in 4.712502376999964 seconds 127 iterations\n",
      "Working ..... 6 clusters in 3.2797419650000847 seconds 88 iterations\n",
      "Working ........ 6 clusters in 5.278458577000038 seconds 142 iterations\n",
      "Working ........ 6 clusters in 5.871268917999714 seconds 158 iterations\n",
      "Working ..... 6 clusters in 3.222542411000177 seconds 87 iterations\n",
      "Working .... 6 clusters in 2.6003212680002434 seconds 70 iterations\n",
      "20% complete ...\n",
      "Working ...... 6 clusters in 4.408537594000336 seconds 117 iterations\n",
      "Working .. 6 clusters in 1.1965224489999855 seconds 32 iterations\n",
      "Working .... 6 clusters in 2.5729752400002326 seconds 69 iterations\n",
      "Working ........ 6 clusters in 5.372236772999713 seconds 146 iterations\n",
      "Working ..... 6 clusters in 3.485089732999768 seconds 94 iterations\n",
      "Working ...... 6 clusters in 4.357927009999912 seconds 117 iterations\n",
      "Working ...... 6 clusters in 4.288710944999821 seconds 115 iterations\n",
      "Working ..... 6 clusters in 3.0362648670002272 seconds 82 iterations\n",
      "Working .... 6 clusters in 2.874647884999831 seconds 77 iterations\n",
      "Working ........ 6 clusters in 5.24169996899991 seconds 142 iterations\n",
      "Working ... 6 clusters in 1.824280534999616 seconds 49 iterations\n",
      "Working ..... 6 clusters in 3.428592879000007 seconds 93 iterations\n",
      "Working ... 6 clusters in 1.9946509770002194 seconds 54 iterations\n",
      "Working ...... 6 clusters in 4.168220479999945 seconds 112 iterations\n",
      "Working ...... 6 clusters in 3.7333453230003215 seconds 101 iterations\n",
      "Working ..... 6 clusters in 3.251453741000205 seconds 88 iterations\n",
      "30% complete ...\n",
      "Working ....... 6 clusters in 4.789880192000055 seconds 129 iterations\n",
      "Working ..... 6 clusters in 3.2119214910003393 seconds 86 iterations\n",
      "Working .......... 6 clusters in 7.07972041100038 seconds 185 iterations\n",
      "Working ..... 6 clusters in 3.703154750000067 seconds 99 iterations\n",
      "Working .... 6 clusters in 2.3587327860000187 seconds 63 iterations\n",
      "Working .... 6 clusters in 2.6312399579996963 seconds 71 iterations\n",
      "Working ..... 6 clusters in 3.171280736999961 seconds 86 iterations\n",
      "Working ...... 6 clusters in 4.248383810000178 seconds 114 iterations\n",
      "Working ..... 6 clusters in 3.5312226159999227 seconds 95 iterations\n",
      "Working ...... 6 clusters in 4.048247088000153 seconds 108 iterations\n",
      "Working .. 6 clusters in 1.158441466000113 seconds 31 iterations\n",
      "Working .... 6 clusters in 2.3708814020001228 seconds 64 iterations\n",
      "Working ...... 6 clusters in 3.779602518000047 seconds 102 iterations\n",
      "Working .... 6 clusters in 2.5219311360001484 seconds 68 iterations\n",
      "Working ..... 6 clusters in 3.0970370560003175 seconds 83 iterations\n",
      "Working ......... 6 clusters in 6.05955164199986 seconds 164 iterations\n",
      "40% complete ...\n",
      "Working ...... 6 clusters in 3.9897861539998303 seconds 107 iterations\n",
      "Working ..... 6 clusters in 3.38727148199996 seconds 91 iterations\n",
      "Working ........ 6 clusters in 5.387639372000194 seconds 146 iterations\n",
      "Working ..... 6 clusters in 3.3542659310001 seconds 91 iterations\n",
      "Working .... 6 clusters in 2.2574874070000988 seconds 61 iterations\n",
      "Working ....... 6 clusters in 4.479998933000388 seconds 121 iterations\n",
      "Working ...... 6 clusters in 3.8210534190002363 seconds 103 iterations\n",
      "Working ........ 6 clusters in 5.491735507999692 seconds 148 iterations\n",
      "Working ...... 6 clusters in 4.090352670999891 seconds 111 iterations\n",
      "Working ........ 6 clusters in 5.6818672290000904 seconds 151 iterations\n",
      "Working ..... 6 clusters in 3.5699754750003194 seconds 96 iterations\n",
      "Working ...... 6 clusters in 4.258898080000108 seconds 115 iterations\n",
      "Working ... 6 clusters in 2.1147418269997615 seconds 57 iterations\n",
      "Working .. 6 clusters in 1.474121080000259 seconds 40 iterations\n",
      "Working ... 6 clusters in 2.1513664499998413 seconds 58 iterations\n",
      "Working ... 6 clusters in 2.214216492000105 seconds 60 iterations\n",
      "50% complete ...\n",
      "Working .......... 6 clusters in 7.074526846000026 seconds 190 iterations\n",
      "Working ..... 6 clusters in 3.2359902709999915 seconds 82 iterations\n",
      "Working ... 6 clusters in 1.8584920260000217 seconds 50 iterations\n",
      "Working .... 6 clusters in 2.8124088460003804 seconds 76 iterations\n",
      "Working .... 6 clusters in 2.952282187000037 seconds 80 iterations\n",
      "Working .... 6 clusters in 2.9191278089997468 seconds 79 iterations\n",
      "Working .... 6 clusters in 2.618561043000227 seconds 71 iterations\n",
      "Working ... 6 clusters in 2.141050886999892 seconds 58 iterations\n",
      "Working ....... 6 clusters in 4.601389638000001 seconds 123 iterations\n",
      "Working ..... 6 clusters in 3.1834942509999564 seconds 86 iterations\n",
      "Working ..... 6 clusters in 3.5158210129998224 seconds 94 iterations\n",
      "Working ...... 6 clusters in 3.9148049779996654 seconds 105 iterations\n",
      "Working ......... 6 clusters in 6.3774726259998715 seconds 171 iterations\n",
      "Working ... 6 clusters in 2.007447523999872 seconds 54 iterations\n",
      "Working ...... 6 clusters in 3.8042251319998286 seconds 103 iterations\n",
      "Working ..... 6 clusters in 3.3666755029998967 seconds 91 iterations\n",
      "60% complete ...\n",
      "Working ...... 6 clusters in 3.9871838330000173 seconds 108 iterations\n",
      "Working ........... 6 clusters in 7.674465084000076 seconds 207 iterations\n",
      "Working ..... 6 clusters in 3.1426521160001357 seconds 85 iterations\n",
      "Working .... 6 clusters in 2.933964392999769 seconds 79 iterations\n",
      "Working .. 6 clusters in 1.4921715099999346 seconds 40 iterations\n",
      "Working .... 6 clusters in 2.3671069129995885 seconds 63 iterations\n",
      "Working ...... 6 clusters in 3.922072787000161 seconds 106 iterations\n",
      "Working ... 6 clusters in 2.190644149000036 seconds 59 iterations\n",
      "Working ........ 6 clusters in 5.267862091000097 seconds 142 iterations\n",
      "Working ...... 6 clusters in 3.8224672599999394 seconds 103 iterations\n",
      "Working ..... 6 clusters in 3.244819479999933 seconds 87 iterations\n",
      "Working ..... 6 clusters in 3.0580926340003316 seconds 82 iterations\n",
      "Working ...... 6 clusters in 4.344971560999966 seconds 117 iterations\n",
      "Working ... 6 clusters in 1.9691840509999565 seconds 52 iterations\n",
      "Working ... 6 clusters in 1.5683405570002833 seconds 42 iterations\n",
      "Working ....... 6 clusters in 4.795594212000196 seconds 128 iterations\n",
      "70% complete ...\n",
      "Working ........ 6 clusters in 5.492854569999963 seconds 147 iterations\n",
      "Working ...... 6 clusters in 4.1196486700000605 seconds 111 iterations\n",
      "Working .... 6 clusters in 2.6784618599999703 seconds 72 iterations\n",
      "Working ..... 6 clusters in 3.1996786650001923 seconds 86 iterations\n",
      "Working ..... 6 clusters in 3.6886002439996446 seconds 99 iterations\n",
      "Working .... 6 clusters in 2.637987749000331 seconds 71 iterations\n",
      "Working .... 6 clusters in 2.4590759480001907 seconds 66 iterations\n",
      "Working ........ 6 clusters in 5.5081022700001085 seconds 148 iterations\n",
      "Working ...... 6 clusters in 3.8200354539999353 seconds 103 iterations\n",
      "Working ...... 6 clusters in 4.311929115000112 seconds 116 iterations\n",
      "Working ...... 6 clusters in 3.9020070779997695 seconds 103 iterations\n",
      "Working ..... 6 clusters in 3.697770433000187 seconds 100 iterations\n",
      "Working ....... 6 clusters in 4.875401297999815 seconds 132 iterations\n",
      "Working ... 6 clusters in 1.752263395999762 seconds 47 iterations\n",
      "Working .... 6 clusters in 2.9092099480003526 seconds 79 iterations\n",
      "Working ... 6 clusters in 1.8962802799997007 seconds 51 iterations\n",
      "80% complete ...\n",
      "Working ...... 6 clusters in 3.9905630359999122 seconds 108 iterations\n",
      "Working ...... 6 clusters in 4.4556605289999425 seconds 120 iterations\n",
      "Working .... 6 clusters in 2.678581746999953 seconds 72 iterations\n",
      "Working ....... 6 clusters in 5.231819376999738 seconds 140 iterations\n",
      "Working ........... 6 clusters in 7.800874866999948 seconds 209 iterations\n",
      "Working ..... 6 clusters in 3.734078838000187 seconds 100 iterations\n",
      "Working ..... 6 clusters in 3.6844676499999878 seconds 99 iterations\n",
      "Working ....... 6 clusters in 4.526158192999901 seconds 121 iterations\n",
      "Working .... 6 clusters in 3.007832489000066 seconds 80 iterations\n",
      "Working ... 6 clusters in 1.5484392319999642 seconds 41 iterations\n",
      "Working ....... 6 clusters in 4.623864824000066 seconds 124 iterations\n",
      "Working ... 6 clusters in 1.6038001839997378 seconds 43 iterations\n",
      "Working ..... 6 clusters in 3.6373279469999034 seconds 92 iterations\n",
      "Working ... 6 clusters in 1.9081333069998436 seconds 50 iterations\n",
      "Working ..... 6 clusters in 3.2239080839999588 seconds 87 iterations\n",
      "Working ... 6 clusters in 1.7133472579998852 seconds 46 iterations\n",
      "90% complete ...\n",
      "Working ... 6 clusters in 1.7531671430001552 seconds 47 iterations\n",
      "Working .... 6 clusters in 2.422293075000198 seconds 65 iterations\n",
      "Working .......... 6 clusters in 6.832328015000257 seconds 184 iterations\n",
      "Working ... 6 clusters in 2.0427045149999685 seconds 55 iterations\n",
      "Working ...... 6 clusters in 4.018094358999861 seconds 107 iterations\n",
      "Working ....... 6 clusters in 4.524877553999886 seconds 121 iterations\n",
      "Working .... 6 clusters in 2.40339813699984 seconds 65 iterations\n",
      "Working ..... 6 clusters in 3.7105683680001675 seconds 100 iterations\n",
      "Working ...... 6 clusters in 3.9750471779998406 seconds 107 iterations\n",
      "Working .... 6 clusters in 2.59847825199995 seconds 70 iterations\n",
      "Working ....... 6 clusters in 5.094766240999888 seconds 137 iterations\n",
      "Working ...... 6 clusters in 3.8032406120000815 seconds 102 iterations\n",
      "Working ............. 6 clusters in 9.488524862999839 seconds 253 iterations\n",
      "Working .... 6 clusters in 2.873829043999649 seconds 77 iterations\n",
      "Working .... 6 clusters in 2.402473970000301 seconds 64 iterations\n",
      "Working .... 6 clusters in 2.764132772999801 seconds 74 iterations\n",
      "100% complete ...\n",
      "Working ...... 6 clusters in 4.174675230000048 seconds 113 iterations\n",
      "Working .... 6 clusters in 2.7995838990000266 seconds 75 iterations\n",
      "Working ...... 6 clusters in 3.9456737850000536 seconds 106 iterations\n",
      "Working .... 6 clusters in 2.687932361000094 seconds 73 iterations\n",
      "Working ..... 6 clusters in 3.6296001349996914 seconds 98 iterations\n",
      "Working ..... 6 clusters in 3.288823773999866 seconds 88 iterations\n",
      "Centroids:\n",
      "[[  1.00000000e+00   1.34565636e+00   4.78945385e-01   1.48953498e+00\n",
      "    4.79959307e-01   2.55740015e+00   1.75002917e+01   1.84715553e+01\n",
      "    1.86321051e+01   1.79579413e+01   1.94051681e+01   3.00369604e-02\n",
      "    3.24598672e-02   3.22690791e-02   2.20003916e-02   2.23099515e-02]\n",
      " [  1.00000000e+00   1.33843139e+00   5.39911574e-01   1.55443512e+00\n",
      "    4.12501428e-01   2.55730551e+00   1.83770979e+01   2.42777743e+01\n",
      "    2.45575698e+01   2.30135603e+01   2.31864049e+01   3.07403758e-02\n",
      "    3.34427152e-02   3.28352548e-02   2.29501670e-02   2.33965774e-02]\n",
      " [  1.00000000e+00   1.41102899e+00   4.48371160e-01   1.41528839e+00\n",
      "    5.77703407e-01   2.56532063e+00   1.17943443e+01   1.77370041e+01\n",
      "    1.79272328e+01   1.64829004e+01   1.73220351e+01   3.01518672e-02\n",
      "    3.13959642e-02   3.11951767e-02   2.09379438e-02   2.10777649e-02]\n",
      " [  1.00000000e+00   1.30172485e+00   4.44944643e-01   1.53852636e+00\n",
      "    4.46570133e-01   2.55237905e+00   1.35664172e+01   2.15143154e+01\n",
      "    2.17145497e+01   2.00286903e+01   2.05041448e+01   3.10473963e-02\n",
      "    3.14277132e-02   3.15501723e-02   2.21259524e-02   2.24194358e-02]\n",
      " [  9.85959438e-01   2.27029166e+00   9.65462132e-01   1.28295604e+00\n",
      "    8.45697488e-01   2.69180337e+00   9.44274145e+00   1.03546819e+01\n",
      "    1.10667779e+01   8.33438883e+00   8.80920731e+00   2.45319266e-02\n",
      "    4.43644564e-02   4.12230820e-02   1.68613104e-02   1.61203004e-02]\n",
      " [  9.99614148e-01   1.60364948e+00   5.19315599e-01   1.33223301e+00\n",
      "    7.11856197e-01   2.59109116e+00   1.22386810e+01   1.39244507e+01\n",
      "    1.41791179e+01   1.33030643e+01   1.48647107e+01   3.05713922e-02\n",
      "    3.48052600e-02   3.37297162e-02   2.04302625e-02   2.05704246e-02]]\n",
      "Cluster assignments:  [1 1 1 ..., 5 5 5]\n",
      "Mean total distance to nearest: 23.285376013325973\n"
     ]
    }
   ],
   "source": [
    "max_iters = 1000  # stop criterion for k-means algorithm\n",
    "repeats = 1000//n_clusters  # number of times to train the same k-means, hoping to find a best result\n",
    "progress = max_iters//50\n",
    "MC_progress = repeats//10 + 1\n",
    "percent = 0\n",
    "centers_hist = []\n",
    "assignments_hist = []\n",
    "mean_hist = []\n",
    "# num_clusters = 4  # blowout, attached, detached, going unstable\n",
    "\n",
    "with tf.Session(graph=kmeans) as sess:\n",
    "    for repeat in range(repeats):\n",
    "        if repeat % MC_progress == 0:\n",
    "            print('{}% complete ...'.format(percent), flush=True)\n",
    "            percent += 10\n",
    "        print('Working ', end='', flush=True)\n",
    "        tic = timeit.default_timer()\n",
    "        sess.run(tf.initialize_all_variables())\n",
    "        changed = True\n",
    "        iters = 0\n",
    "\n",
    "        # Run k-means loop\n",
    "        while changed and iters < max_iters:\n",
    "            if iters % progress == 0:\n",
    "                print('.', end='', flush=True)\n",
    "            iters += 1\n",
    "            [changed, _] = sess.run([did_assignments_change, do_updates])\n",
    "        toc = timeit.default_timer()\n",
    "        print(\" {} clusters in {} seconds {} iterations\".format(n_clusters, toc-tic, iters))\n",
    "\n",
    "        # Save the results\n",
    "        [centers, assignments] = sess.run([centroids, cluster_assignments])\n",
    "        mean_dist = np.mean([dist[ind] for dist, ind in zip(sum_squares.eval(), assignments)], axis=0)\n",
    "        centers_hist.append(centers)\n",
    "        assignments_hist.append(assignments)\n",
    "        mean_hist.append(mean_dist)\n",
    "        if any([center[0] < 1e-5 for center in centers]):  # break if we find the blow-outs\n",
    "            break\n",
    "    \n",
    "    min_ind = np.argmin(mean_hist)\n",
    "    mean_dist = np.min(mean_hist)\n",
    "    centers = centers_hist[min_ind]\n",
    "    assignments = assignments_hist[min_ind]\n",
    "    dist_history.append(mean_dist)\n",
    "    print(\"Centroids:\")\n",
    "    print(centers)\n",
    "    print(\"Cluster assignments: \", assignments)\n",
    "    print(\"Mean total distance to nearest: {}\".format(mean_dist))"
   ]
  },
  {
   "cell_type": "raw",
   "metadata": {
    "collapsed": false
   },
   "source": [
    "print(np.array(centers_hist)[:,:,0])"
   ]
  },
  {
   "cell_type": "code",
   "execution_count": 29,
   "metadata": {
    "collapsed": false
   },
   "outputs": [
    {
     "data": {
      "image/png": "[encoded data removed]",
      "text/plain": [
       "<matplotlib.figure.Figure at 0x7f2e7c3eb1d0>"
      ]
     },
     "metadata": {},
     "output_type": "display_data"
    }
   ],
   "source": [
    "plt.figure(figsize=(16, 4))\n",
    "plt.plot(assignments)\n",
    "plt.vlines(blow_outs, -1, n_clusters)\n",
    "plt.ylim((-1, n_clusters))\n",
    "plt.xlim((0, num_samples))\n",
    "plt.show()"
   ]
  },
  {
   "cell_type": "code",
   "execution_count": 28,
   "metadata": {
    "collapsed": false
   },
   "outputs": [
    {
     "name": "stdout",
     "output_type": "stream",
     "text": [
      "[47.801541779019225, 34.154192497570918, 28.472318547015465, 25.608139514374191, 23.285376013325973]\n"
     ]
    },
    {
     "data": {
      "image/png": "[encoded data removed]",
      "text/plain": [
       "<matplotlib.figure.Figure at 0x7f2ec47bb978>"
      ]
     },
     "metadata": {},
     "output_type": "display_data"
    }
   ],
   "source": [
    "print(dist_history)\n",
    "plt.figure(figsize=(12,5))\n",
    "plt.plot(range(2, len(dist_history)+2), dist_history, linewidth=2)\n",
    "plt.title('K-means average sum-squared distance to centroid vs. number of centroids')\n",
    "plt.xlabel('Number of centroids, K')\n",
    "plt.ylabel('Average distance to nearest centroid')\n",
    "plt.show()"
   ]
  },
  {
   "cell_type": "code",
   "execution_count": 186,
   "metadata": {
    "collapsed": false
   },
   "outputs": [],
   "source": [
    "centers = np.array(centers)\n",
    "assignments = np.array(assignments)\n",
    "dist_history = np.array(dist_history)"
   ]
  },
  {
   "cell_type": "code",
   "execution_count": 7,
   "metadata": {
    "collapsed": false
   },
   "outputs": [],
   "source": [
    "fname = os.path.join('..', 'Processed', 'K-means_results_{}_centroids.pickle'.format(n_clusters))"
   ]
  },
  {
   "cell_type": "code",
   "execution_count": 1,
   "metadata": {
    "collapsed": false
   },
   "outputs": [
    {
     "ename": "NameError",
     "evalue": "name 'os' is not defined",
     "output_type": "error",
     "traceback": [
      "\u001b[1;31m---------------------------------------------------------------------------\u001b[0m",
      "\u001b[1;31mNameError\u001b[0m                                 Traceback (most recent call last)",
      "\u001b[1;32m<ipython-input-1-7bdb8208d200>\u001b[0m in \u001b[0;36m<module>\u001b[1;34m()\u001b[0m\n\u001b[1;32m----> 1\u001b[1;33m \u001b[0mfname\u001b[0m \u001b[1;33m=\u001b[0m \u001b[0mos\u001b[0m\u001b[1;33m.\u001b[0m\u001b[0mpath\u001b[0m\u001b[1;33m.\u001b[0m\u001b[0mjoin\u001b[0m\u001b[1;33m(\u001b[0m\u001b[1;34m'.'\u001b[0m\u001b[1;33m,\u001b[0m \u001b[1;34m'Processed'\u001b[0m\u001b[1;33m,\u001b[0m \u001b[1;34m'K-means_results_{}_centroids.pickle'\u001b[0m\u001b[1;33m.\u001b[0m\u001b[0mformat\u001b[0m\u001b[1;33m(\u001b[0m\u001b[0mn_clusters\u001b[0m\u001b[1;33m)\u001b[0m\u001b[1;33m)\u001b[0m\u001b[1;33m\u001b[0m\u001b[0m\n\u001b[0m\u001b[0;32m      2\u001b[0m to_pickle = {'centers': centers,\n\u001b[0;32m      3\u001b[0m              \u001b[1;34m'assignments'\u001b[0m\u001b[1;33m:\u001b[0m \u001b[0massignments\u001b[0m\u001b[1;33m,\u001b[0m\u001b[1;33m\u001b[0m\u001b[0m\n\u001b[0;32m      4\u001b[0m              'distance_vs_num_centers': dist_history}\n\u001b[0;32m      5\u001b[0m \u001b[0mpickle\u001b[0m\u001b[1;33m.\u001b[0m\u001b[0mdump\u001b[0m\u001b[1;33m(\u001b[0m\u001b[0mto_pickle\u001b[0m\u001b[1;33m,\u001b[0m \u001b[0mopen\u001b[0m\u001b[1;33m(\u001b[0m\u001b[0mfname\u001b[0m\u001b[1;33m,\u001b[0m \u001b[1;34m'wb'\u001b[0m\u001b[1;33m)\u001b[0m\u001b[1;33m)\u001b[0m\u001b[1;33m\u001b[0m\u001b[0m\n",
      "\u001b[1;31mNameError\u001b[0m: name 'os' is not defined"
     ]
    }
   ],
   "source": [
    "to_pickle = {'centers': centers,\n",
    "             'assignments': assignments,\n",
    "             'distance_vs_num_centers': dist_history}\n",
    "pickle.dump(to_pickle, open(fname, 'wb'))"
   ]
  },
  {
   "cell_type": "code",
   "execution_count": 8,
   "metadata": {
    "collapsed": false
   },
   "outputs": [
    {
     "name": "stdout",
     "output_type": "stream",
     "text": [
      "{'assignments': array([1, 1, 1, ..., 1, 1, 1]), 'centers': array([[ 1.        ,  2.81591334,  0.03357434,  0.07389693,  0.06184875,\n",
      "         0.0206192 ,  0.02009801],\n",
      "       [ 1.        ,  2.52701412,  0.02998303,  0.02804071,  0.02945956,\n",
      "         0.02154577,  0.02185534],\n",
      "       [ 1.        ,  2.63422938,  0.02761916,  0.03205354,  0.03003301,\n",
      "         0.02001018,  0.01999879],\n",
      "       [ 0.        ,  2.65465485,  0.01905372,  0.03090722,  0.02950687,\n",
      "         0.01450436,  0.01280015]]), 'distance_vs_num_centers': array([ 0.0036334 ,  0.00230521,  0.00114152,  0.00082087,  0.00063533,\n",
      "        0.0005279 ])}\n"
     ]
    }
   ],
   "source": [
    "kmeans_data = pickle.load(open(fname, 'rb'))\n",
    "print(kmeans_data)"
   ]
  },
  {
   "cell_type": "code",
   "execution_count": 10,
   "metadata": {
    "collapsed": false
   },
   "outputs": [
    {
     "data": {
      "text/plain": [
       "(42332,)"
      ]
     },
     "execution_count": 10,
     "metadata": {},
     "output_type": "execute_result"
    }
   ],
   "source": [
    "kmeans_data['assignments'].shape"
   ]
  },
  {
   "cell_type": "markdown",
   "metadata": {},
   "source": [
    "# Visualize Clustering\n",
    "\n",
    "Visualize the data ponit clustering with [t-SNE][1]\n",
    "\n",
    "[1]: http://lvdmaaten.github.io/tsne/"
   ]
  },
  {
   "cell_type": "code",
   "execution_count": 6,
   "metadata": {
    "collapsed": false
   },
   "outputs": [
    {
     "name": "stdout",
     "output_type": "stream",
     "text": [
      "emb0\t(1406, 2)\n",
      "emb1\t(11696, 2)\n",
      "emb3\t(21, 2)\n",
      "emb2\t(2877, 2)\n"
     ]
    }
   ],
   "source": [
    "fname = os.path.join('..', 'Processed', 'tSNE_processed_16000.pickle')\n",
    "dataset = pickle.load(open(fname, 'rb'))\n",
    "keys = dataset.keys()\n",
    "for key in keys:\n",
    "    print('{}\\t{}'.format(key, dataset[key].shape))"
   ]
  },
  {
   "cell_type": "code",
   "execution_count": 7,
   "metadata": {
    "collapsed": false
   },
   "outputs": [
    {
     "name": "stdout",
     "output_type": "stream",
     "text": [
      "[[ 2.36226561 -3.14398297]\n",
      " [ 2.38274978 -3.17627764]\n",
      " [ 2.35436275 -3.10345309]\n",
      " [ 2.39066863 -3.19168002]\n",
      " [ 6.64528216 -1.69966622]\n",
      " [ 2.49564375 -3.44225289]\n",
      " [ 2.45966621 -3.39414062]\n",
      " [ 7.78094931  1.28235633]\n",
      " [ 5.91211549  0.07334727]\n",
      " [ 2.0379307   0.07048099]]\n"
     ]
    }
   ],
   "source": [
    "print(dataset['emb3'][:10, :])"
   ]
  },
  {
   "cell_type": "code",
   "execution_count": 8,
   "metadata": {
    "collapsed": false
   },
   "outputs": [
    {
     "data": {
      "image/png": "[encoded data removed]",
      "text/plain": [
       "<matplotlib.figure.Figure at 0x86e18d0>"
      ]
     },
     "metadata": {},
     "output_type": "display_data"
    }
   ],
   "source": [
    "colors = ('b', 'r', 'y', 'g')\n",
    "markers = ('+', 'x', '^', 'o')\n",
    "labels = ('detached', 'attached', 'flickering', 'blow-out')\n",
    "plt.figure(figsize=(12, 9))\n",
    "for key, color, marker in zip(keys, colors, markers):\n",
    "    if dataset[key].shape[0] > 0:\n",
    "        plt.scatter(dataset[key][:, 0], dataset[key][:, 1], marker=marker, color=color)\n",
    "plt.legend(labels)\n",
    "plt.tight_layout()\n",
    "plt.show()"
   ]
  },
  {
   "cell_type": "code",
   "execution_count": null,
   "metadata": {
    "collapsed": true
   },
   "outputs": [],
   "source": []
  }
 ],
 "metadata": {
  "kernelspec": {
   "display_name": "Python 3",
   "language": "python",
   "name": "python3"
  },
  "language_info": {
   "codemirror_mode": {
    "name": "ipython",
    "version": 3
   },
   "file_extension": ".py",
   "mimetype": "text/x-python",
   "name": "python",
   "nbconvert_exporter": "python",
   "pygments_lexer": "ipython3",
   "version": "3.5.1+"
  }
 },
 "nbformat": 4,
 "nbformat_minor": 0
}
