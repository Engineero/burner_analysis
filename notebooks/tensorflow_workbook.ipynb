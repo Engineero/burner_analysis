{
 "cells": [
  {
   "cell_type": "code",
   "execution_count": 2,
   "metadata": {
    "collapsed": false
   },
   "outputs": [],
   "source": [
    "import pickle\n",
    "import os\n",
    "import tensorflow as tf\n",
    "import matplotlib.pyplot as plt\n",
    "# import mpl_toolkits.mplot3d as Axes3D\n",
    "\n",
    "from database import *\n",
    "from sklearn.manifold import TSNE\n",
    "\n",
    "%matplotlib inline"
   ]
  },
  {
   "cell_type": "markdown",
   "metadata": {},
   "source": [
    "# Datasets\n",
    "\n",
    "Generate training, testing, and validation datasets"
   ]
  },
  {
   "cell_type": "code",
   "execution_count": 12,
   "metadata": {
    "collapsed": true
   },
   "outputs": [],
   "source": [
    "# Import data from database\n",
    "step = 1/10e3  # microphone sample period, sec\n",
    "mic_list = (\"Ambient\", \"Mic 0\", \"Mic 1\", \"Mic 2\", \"Mic 3\")  # for setting the legend\n",
    "fs = 1/step  # sample rate, Hz"
   ]
  },
  {
   "cell_type": "code",
   "execution_count": 57,
   "metadata": {
    "collapsed": false
   },
   "outputs": [
    {
     "name": "stdout",
     "output_type": "stream",
     "text": [
      "Number of rows: 42331\n",
      "Keys: ['temperature', 'staticP', 'dateTimeStamp', 'opPointAct', 'atmosphericP', 'flameStatus', 'opPointDes', 'dynamicP']\n",
      "Loading data ................................................... done!\n",
      "Elapsed time: 54.44733872698271 sec\n"
     ]
    }
   ],
   "source": [
    "# Load data from the database\n",
    "# host = \"mysql.ecn.purdue.edu\"  # 128.46.154.164\n",
    "# user = \"op_point_test\"\n",
    "# database = \"op_point_test\"\n",
    "host = 'localhost'\n",
    "user = 'root'\n",
    "database = 'mysql'\n",
    "table_name = '100_op_point_test'\n",
    "password = 'admin'\n",
    "# with open(\"password.txt\", \"r\") as f:\n",
    "#   password = f.read().rstrip()\n",
    "eng = connect_to_db(host, user, password, database)\n",
    "tic = timeit.default_timer()\n",
    "data = import_data(eng, table_name)\n",
    "toc = timeit.default_timer()\n",
    "if eng.open:\n",
    "    eng.close()\n",
    "print(\"Elapsed time: {} sec\".format(toc-tic))"
   ]
  },
  {
   "cell_type": "code",
   "execution_count": 13,
   "metadata": {
    "collapsed": false
   },
   "outputs": [],
   "source": [
    "# Import processed data from pickle\n",
    "processed_data = []\n",
    "for mic in mic_list:\n",
    "    fname = os.path.join('..', 'Processed', 'short_fft_waterfall_{}.pickle'.format(mic))\n",
    "#     fname = os.path.join('.', 'Processed', 'short_fft_waterfall_softmax_{}.pickle'.format(mic))\n",
    "    processed_data.append(pickle.load(open(fname, 'rb')))"
   ]
  },
  {
   "cell_type": "code",
   "execution_count": 19,
   "metadata": {
    "collapsed": false
   },
   "outputs": [
    {
     "name": "stdout",
     "output_type": "stream",
     "text": [
      "[1 1 1 ..., 1 1 1]\n"
     ]
    }
   ],
   "source": [
    "fname = os.path.join('..', 'Processed', 'K-means_results_4_centroids.pickle')\n",
    "kmeans_data = pickle.load(open(fname, 'rb'))\n",
    "assignments = kmeans_data['assignments']\n",
    "print(assignments)"
   ]
  },
  {
   "cell_type": "code",
   "execution_count": 20,
   "metadata": {
    "collapsed": false
   },
   "outputs": [
    {
     "name": "stdout",
     "output_type": "stream",
     "text": [
      "[ 0.02470229  0.02452491  0.02547168  0.02053213  0.02165319]\n"
     ]
    }
   ],
   "source": [
    "print(np.power(10, np.mean([row['res'][0,:] for row in processed_data], axis=1)/20))"
   ]
  },
  {
   "cell_type": "code",
   "execution_count": 204,
   "metadata": {
    "collapsed": false
   },
   "outputs": [
    {
     "data": {
      "text/plain": [
       "(42332, 11)"
      ]
     },
     "execution_count": 204,
     "metadata": {},
     "output_type": "execute_result"
    }
   ],
   "source": [
    "dataset = []\n",
    "for num in range(data['opPointAct'].shape[0]):\n",
    "    start = num*100\n",
    "    vec = np.concatenate((data['flameStatus'][num],\n",
    "                          data['opPointAct'][num],\n",
    "                          data['staticP'][num],\n",
    "#                           data['temperature'][num],\n",
    "#                           np.concatenate([row['res'][num,:] for row in processed_data])), axis=0)\n",
    "                          np.power(10, np.mean([row['res'][num,:] for row in processed_data], axis=1)/20)), axis=0)\n",
    "#                           np.concatenate([row for row in data['dynamicP'][:, start:start+100]])), axis=0)\n",
    "    dataset.append(vec)\n",
    "    \n",
    "dataset = np.array(dataset)\n",
    "dataset.shape"
   ]
  },
  {
   "cell_type": "code",
   "execution_count": 229,
   "metadata": {
    "collapsed": false
   },
   "outputs": [
    {
     "name": "stdout",
     "output_type": "stream",
     "text": [
      "(42332, 4)\n",
      "Assignments: [1 1 1 1 3 1 1 1 1 1]\n",
      "One-hot encoded:\n",
      "[[ 0.  1.  0.  0.]\n",
      " [ 0.  1.  0.  0.]\n",
      " [ 0.  1.  0.  0.]\n",
      " [ 0.  1.  0.  0.]\n",
      " [ 0.  0.  0.  1.]\n",
      " [ 0.  1.  0.  0.]\n",
      " [ 0.  1.  0.  0.]\n",
      " [ 0.  1.  0.  0.]\n",
      " [ 0.  1.  0.  0.]\n",
      " [ 0.  1.  0.  0.]]\n"
     ]
    }
   ],
   "source": [
    "labelset = np.zeros((len(assignments), np.max(assignments)+1), dtype=np.float32)\n",
    "for i in range(len(assignments)):\n",
    "    labelset[i, assignments[i]] = 1  # encode assignments as one-hot vectors\n",
    "print(labelset.shape)\n",
    "print('Assignments: {}'.format(assignments[1000:1010]))\n",
    "print('One-hot encoded:\\n{}'.format(labelset[1000:1010]))"
   ]
  },
  {
   "cell_type": "code",
   "execution_count": 230,
   "metadata": {
    "collapsed": false
   },
   "outputs": [],
   "source": [
    "input_size = dataset.shape[1]\n",
    "num_samples = dataset.shape[0]\n",
    "batch_size = 64\n",
    "num_unrollings = 10"
   ]
  },
  {
   "cell_type": "code",
   "execution_count": 231,
   "metadata": {
    "collapsed": false
   },
   "outputs": [],
   "source": [
    "output_size = labelset.shape[1]"
   ]
  },
  {
   "cell_type": "code",
   "execution_count": 208,
   "metadata": {
    "collapsed": false
   },
   "outputs": [],
   "source": [
    "class BatchGenerator(object):\n",
    "    def __init__(self, data, batch_size, num_unrollings):\n",
    "        self._data = data\n",
    "        self._num_samples = data.shape[0]\n",
    "        self._batch_size = batch_size\n",
    "        self._num_unrollings = num_unrollings\n",
    "        segment = self._num_samples // batch_size\n",
    "        self._offset = 0\n",
    "        self._last_batch = self._next_batch()\n",
    "\n",
    "    def _next_batch(self):\n",
    "        \"\"\"Generate a single batch from the current cursor position in the data.\"\"\"\n",
    "        batch = self._data[self._offset:self._offset+self._batch_size, :]\n",
    "        self._offset += self._batch_size\n",
    "        if self._num_samples - self._offset < self._batch_size:\n",
    "            self._offset = 0\n",
    "        return batch\n",
    "\n",
    "    def next(self):\n",
    "        \"\"\"Generate the next array of batches from the data. The array consists of\n",
    "        the last batch of the previous array, followed by num_unrollings new ones.\n",
    "        \"\"\"\n",
    "        batches = [self._last_batch]\n",
    "        for step in range(self._num_unrollings):\n",
    "            batches.append(self._next_batch())\n",
    "        self._last_batch = batches[-1]\n",
    "        return batches"
   ]
  },
  {
   "cell_type": "code",
   "execution_count": 232,
   "metadata": {
    "collapsed": true
   },
   "outputs": [],
   "source": [
    "train_size = np.int(0.7*num_samples)\n",
    "valid_size = len(dataset) - train_size\n",
    "train_batches = BatchGenerator(dataset[:train_size,:], batch_size, num_unrollings)\n",
    "valid_batches = BatchGenerator(dataset[train_size:,:], 1, 1)"
   ]
  },
  {
   "cell_type": "code",
   "execution_count": 233,
   "metadata": {
    "collapsed": false
   },
   "outputs": [],
   "source": [
    "train_label_batches = BatchGenerator(labelset[:train_size,:], batch_size, num_unrollings)\n",
    "valid_label_batches = BatchGenerator(labelset[train_size:,:], 1, 1)"
   ]
  },
  {
   "cell_type": "code",
   "execution_count": 211,
   "metadata": {
    "collapsed": true
   },
   "outputs": [],
   "source": [
    "def logprob(predictions, labels):\n",
    "    \"\"\"Log-probability of the true labels in a predicted batch.\"\"\"\n",
    "    predictions[predictions < 1e-10] = 1e-10\n",
    "    return np.sum(np.multiply(labels, -np.log(predictions))) / labels.shape[0]"
   ]
  },
  {
   "cell_type": "markdown",
   "metadata": {},
   "source": [
    "# LSTM RNN Definition\n",
    "\n",
    "Define the long short-term memory (LSTM) recurrent neural network (RNN). Borrowing heavily from the Deep Learning Udacity course."
   ]
  },
  {
   "cell_type": "code",
   "execution_count": 235,
   "metadata": {
    "collapsed": false
   },
   "outputs": [],
   "source": [
    "num_nodes = 64  #TODO tune this!\n",
    "num_steps = 1001\n",
    "\n",
    "graph = tf.Graph()\n",
    "with graph.as_default():\n",
    "    # Parameters\n",
    "    # Combined input, forget, memory cell, and output weights for input and previous state. Also biases.\n",
    "    ifcox = tf.Variable(tf.truncated_normal([input_size, 4*num_nodes], 0.0, 1/np.sqrt(input_size)))\n",
    "    ifcom = tf.Variable(tf.truncated_normal([num_nodes, 4*num_nodes], 0.0, 1/np.sqrt(input_size)))\n",
    "    ifcob = tf.Variable(tf.zeros([1, 4*num_nodes]))\n",
    "    # Variables saving state across unrollings.\n",
    "    saved_output = tf.Variable(tf.zeros([batch_size, num_nodes]), trainable=False)\n",
    "    saved_state = tf.Variable(tf.zeros([batch_size, num_nodes]), trainable=False)\n",
    "    # Classifier weights and biases.\n",
    "    w = tf.Variable(tf.truncated_normal([num_nodes, output_size], 0.0, 1/np.sqrt(output_size)))\n",
    "    b = tf.Variable(tf.zeros([output_size]))\n",
    "    \n",
    "    # Create saver\n",
    "    saver = tf.train.Saver()\n",
    "    \n",
    "    # Definition of the cell computation\n",
    "    def lstm_cell(i, o, state):\n",
    "        \"\"\"Create a LSTM cell. See e.g.: http://arxiv.org/pdf/1402.1128v1.pdf\n",
    "        Note that in this formulation, we omit the various connections between the\n",
    "        previous state and the gates.\"\"\"\n",
    "        combined = tf.matmul(i, ifcox) + tf.matmul(o, ifcom) + ifcob\n",
    "        input_gate = tf.sigmoid(combined[:, :num_nodes])\n",
    "        forget_gate = tf.sigmoid(combined[:, num_nodes:2*num_nodes])\n",
    "        update = combined[:, 2*num_nodes:3*num_nodes]\n",
    "        state = forget_gate * state + input_gate * tf.tanh(update)\n",
    "        output_gate = tf.sigmoid(combined[:, 3*num_nodes:])\n",
    "        return output_gate * tf.tanh(state), state\n",
    "    \n",
    "    # Input data\n",
    "    train_data = list()\n",
    "    train_labels = list()\n",
    "    for _ in range(num_unrollings + 1):\n",
    "        train_data.append(tf.placeholder(tf.float32, shape=[batch_size, input_size]))\n",
    "        train_labels.append(tf.placeholder(tf.float32, shape=[batch_size, output_size]))\n",
    "    train_inputs = train_data[:num_unrollings]\n",
    "    train_outputs = train_labels[1:]  # labels are shifted by one time step.\n",
    "    \n",
    "    # Unrolled LSTM loop\n",
    "    outputs = list()\n",
    "    output = saved_output\n",
    "    state = saved_state\n",
    "    for i in train_inputs:\n",
    "        output, state = lstm_cell(i, output, state)\n",
    "        outputs.append(output)\n",
    "    \n",
    "    # Saving state across unrollings\n",
    "    with tf.control_dependencies([saved_output.assign(output),\n",
    "                                  saved_state.assign(state)]):\n",
    "        # Classifier\n",
    "        logits = tf.nn.xw_plus_b(tf.concat(0, outputs), w, b)\n",
    "        loss = tf.reduce_mean(tf.nn.softmax_cross_entropy_with_logits(logits,\n",
    "                tf.concat(0, train_outputs)))\n",
    "#         loss = tf.reduce_mean(tf.nn.sparse_softmax_cross_entropy_with_logits(logits,\n",
    "#                               tf.concat(0, train_outputs)))\n",
    "    \n",
    "    # Optimizer\n",
    "    global_step = tf.Variable(0)\n",
    "#     learning_rate = tf.train.exponential_decay(10.0, global_step, 2*num_steps//3, 0.1, staircase=True)\n",
    "#     optimizer = tf.train.GradientDescentOptimizer(learning_rate)\n",
    "    optimizer = tf.train.AdamOptimizer()\n",
    "    gradients, v = zip(*optimizer.compute_gradients(loss))\n",
    "    gradients, _ = tf.clip_by_global_norm(gradients, 1.25)\n",
    "    optimizer = optimizer.apply_gradients(zip(gradients, v), global_step=global_step)\n",
    "    \n",
    "    # Predictions\n",
    "    train_prediction = tf.nn.softmax(logits)\n",
    "    \n",
    "    # Sampling and validation eval: batch 1, no unrolling.\n",
    "    sample_input = tf.placeholder(tf.float32, shape=[1, input_size])\n",
    "    saved_sample_output = tf.Variable(tf.zeros([1, num_nodes]))\n",
    "    saved_sample_state = tf.Variable(tf.zeros([1, num_nodes]))\n",
    "    reset_sample_state = tf.group(saved_sample_output.assign(tf.zeros([1, num_nodes])),\n",
    "            saved_sample_state.assign(tf.zeros([1, num_nodes])))\n",
    "    sample_output, sample_state = lstm_cell(sample_input, saved_sample_output,\n",
    "            saved_sample_state)\n",
    "    with tf.control_dependencies([saved_sample_output.assign(sample_output),\n",
    "                                  saved_sample_state.assign(sample_state)]):\n",
    "        sample_prediction = tf.nn.softmax(tf.nn.xw_plus_b(sample_output, w, b))"
   ]
  },
  {
   "cell_type": "markdown",
   "metadata": {},
   "source": [
    "# Run\n",
    "\n",
    "Train the network on the dataset and observe the performance"
   ]
  },
  {
   "cell_type": "code",
   "execution_count": 237,
   "metadata": {
    "collapsed": false
   },
   "outputs": [
    {
     "name": "stdout",
     "output_type": "stream",
     "text": [
      "Initialized.\n",
      "Average loss at step 0: 1.8605432510375977\n",
      "Minibatch perplexity: 6.427228647055624\n",
      "Average loss at step 100: 0.6526963956281543\n",
      "Minibatch perplexity: 1.6904040362633899\n",
      "Average loss at step 200: 0.4032594308909029\n",
      "Minibatch perplexity: 1.9887653499130669\n",
      "Average loss at step 300: 0.31086724060587584\n",
      "Minibatch perplexity: 1.0191203828607283\n",
      "Average loss at step 400: 0.30075304307974876\n",
      "Minibatch perplexity: 1.371257316659087\n",
      "Average loss at step 500: 0.29262957523576916\n",
      "Minibatch perplexity: 1.0216511909795385\n",
      "Average loss at step 600: 0.26312306433450433\n",
      "Minibatch perplexity: 1.016561295492537\n",
      "Average loss at step 700: 0.23408196100732312\n",
      "Minibatch perplexity: 1.2741042533475435\n",
      "Average loss at step 800: 0.27217657326254996\n",
      "Minibatch perplexity: 1.0224087928284715\n",
      "Average loss at step 900: 0.25333340830286033\n",
      "Minibatch perplexity: 2.037988653795976\n",
      "Average loss at step 1000: 0.24097797615802846\n",
      "Minibatch perplexity: 1.1621022046498277\n",
      "Validation set perplexity: 1.2514808535578248\n",
      "Model saved in file: ./tmp/model.ckpt\n"
     ]
    }
   ],
   "source": [
    "summary_frequency = 100\n",
    "mean_loss = 0\n",
    "\n",
    "with tf.Session(graph=graph) as session:\n",
    "    tf.initialize_all_variables().run()\n",
    "    print('Initialized.')\n",
    "    for step in range(num_steps):\n",
    "        # Generate next training batch\n",
    "        batches = train_batches.next()\n",
    "        labels = train_label_batches.next()\n",
    "        \n",
    "        # Generate feed_dict\n",
    "        feed_dict = dict()\n",
    "        for i in range(num_unrollings + 1):\n",
    "            feed_dict[train_data[i]] = batches[i]\n",
    "            feed_dict[train_labels[i]] = labels[i]\n",
    "        _, l, predictions = session.run(\n",
    "                [optimizer, loss, train_prediction], feed_dict=feed_dict)\n",
    "#                 [optimizer, loss, train_prediction, learning_rate], feed_dict=feed_dict)\n",
    "        mean_loss += l\n",
    "        \n",
    "        # Update to the user periodically\n",
    "        if step % summary_frequency == 0:\n",
    "            # Output some information about our training performance\n",
    "            if step > 0:\n",
    "                mean_loss = mean_loss / summary_frequency\n",
    "            # The mean loss is an estimate of the loss over the last few batches.\n",
    "            print('Average loss at step {}: {}'.format(step, mean_loss))\n",
    "#             print('Average loss at step {}: {} learning rate: {}'.format(step, mean_loss, lr))            \n",
    "            mean_loss = 0\n",
    "            print('Minibatch perplexity: {}'.format(float(np.exp(logprob(predictions,\n",
    "                    np.concatenate(labels[1:], axis=0))))))\n",
    "\n",
    "    # Measure validation set perplexity.\n",
    "    reset_sample_state.run()\n",
    "    valid_logprob = 0\n",
    "    for num in range(valid_size):\n",
    "        b = valid_batches.next()\n",
    "        l = valid_label_batches.next()\n",
    "        predictions = sample_prediction.eval({sample_input: b[0]})\n",
    "        valid_logprob = valid_logprob + logprob(predictions, l[1])\n",
    "    print('Validation set perplexity: {}'.format(float(np.exp(valid_logprob / valid_size))))\n",
    "    \n",
    "    save_path = saver.save(session, './tmp/model.ckpt')\n",
    "    print('Model saved in file: {}'.format(save_path))"
   ]
  },
  {
   "cell_type": "markdown",
   "metadata": {},
   "source": [
    "# Analyze\n",
    "\n",
    "Analyze the performance and see what we can do with it"
   ]
  },
  {
   "cell_type": "code",
   "execution_count": 238,
   "metadata": {
    "collapsed": false
   },
   "outputs": [
    {
     "name": "stdout",
     "output_type": "stream",
     "text": [
      "Model restored.\n",
      "Logprob prediction accuracy: 3.27499509365031\n",
      "Logprob prediction accuracy: 4.305346330370888\n",
      "Logprob prediction accuracy: 5.848128092794755\n",
      "Logprob prediction accuracy: 8.95032183870408\n",
      "Logprob prediction accuracy: 21.192523869801214\n",
      "Logprob prediction accuracy: 34.57237037931048\n",
      "Logprob prediction accuracy: 33.55192325402382\n",
      "Logprob prediction accuracy: 22.4291848650905\n",
      "Logprob prediction accuracy: 11.539374057178454\n",
      "Logprob prediction accuracy: 5.9423446453489825\n"
     ]
    }
   ],
   "source": [
    "#TODO\n",
    "with tf.Session(graph=graph) as session:\n",
    "    saver.restore(session, './tmp/model.ckpt')\n",
    "    print('Model restored.')\n",
    "    reset_sample_state.run()\n",
    "    valid_logprob = 0\n",
    "    for num in range(10):\n",
    "        b = valid_batches.next()\n",
    "        l = valid_label_batches.next()\n",
    "        predictions = sample_prediction.eval({sample_input: b[0]})\n",
    "        valid_logprob = logprob(predictions, l[1])\n",
    "        print('Logprob prediction accuracy: {}'.format(np.exp(valid_logprob)))"
   ]
  },
  {
   "cell_type": "markdown",
   "metadata": {},
   "source": [
    "# K-means clustering of dataset\n",
    "\n",
    "Attempt to divide the data into `n` seperable clusters."
   ]
  },
  {
   "cell_type": "code",
   "execution_count": null,
   "metadata": {
    "collapsed": false
   },
   "outputs": [],
   "source": [
    "blow_outs = [ind for ind in range(num_samples) if dataset[ind, 0] == 0]\n",
    "print(blow_outs)"
   ]
  },
  {
   "cell_type": "code",
   "execution_count": 4,
   "metadata": {
    "collapsed": true
   },
   "outputs": [],
   "source": [
    "dist_history = []\n",
    "n_clusters = 4"
   ]
  },
  {
   "cell_type": "code",
   "execution_count": 173,
   "metadata": {
    "collapsed": false
   },
   "outputs": [],
   "source": [
    "n_clusters = 4\n",
    "def choose_random_centroids(samples, n_clusters):\n",
    "    \"\"\"Step 0: Initialisation: Select `num_clusters` number of random points.\"\"\"\n",
    "    random_indices = tf.random_shuffle(tf.range(0, num_samples))\n",
    "    begin = [0,]\n",
    "    size = [n_clusters,]\n",
    "    size[0] = n_clusters\n",
    "    centroid_indices = tf.slice(random_indices, begin, size)\n",
    "    initial_centroids = tf.gather(samples, centroid_indices)\n",
    "    return initial_centroids\n",
    "\n",
    "tf.reset_default_graph()\n",
    "kmeans = tf.Graph()\n",
    "with kmeans.as_default():\n",
    "    # def configure_kmeans(n_clusters):\n",
    "    points = tf.constant(dataset[:num_samples])\n",
    "    cluster_assignments = tf.Variable(tf.zeros([num_samples], dtype=tf.int64))\n",
    "\n",
    "    # Initialize centroids to locations of `n_clusters` random samples\n",
    "    centroids = tf.Variable(choose_random_centroids(points, n_clusters))\n",
    "\n",
    "    # Replicate to N copies of each centroid and K copies of each\n",
    "    # point, then subtract and compute the sum of squared distances.\n",
    "    rep_centroids = tf.reshape(tf.tile(centroids, [num_samples, 1]), [num_samples, n_clusters, input_size])\n",
    "    rep_points = tf.reshape(tf.tile(points, [1, n_clusters]), [num_samples, n_clusters, input_size])\n",
    "\n",
    "    #TODO modify the cost function for k-means clustering.\n",
    "    sum_squares = tf.reduce_sum(tf.square(rep_points - rep_centroids),\n",
    "                                reduction_indices=2)\n",
    "\n",
    "    # Use argmin to select the lowest-distance point\n",
    "    best_centroids = tf.argmin(sum_squares, 1)\n",
    "    did_assignments_change = tf.reduce_any(tf.not_equal(best_centroids, \n",
    "                                                        cluster_assignments))\n",
    "\n",
    "    def bucket_mean(data, bucket_ids, num_buckets):\n",
    "        total = tf.unsorted_segment_sum(data, bucket_ids, num_buckets)\n",
    "        count = tf.unsorted_segment_sum(tf.ones_like(data), bucket_ids, num_buckets)\n",
    "        return total / count\n",
    "\n",
    "    means = bucket_mean(points, best_centroids, n_clusters)\n",
    "\n",
    "    # Do not write to the assigned clusters variable until after\n",
    "    # computing whether the assignments have changed - hence with_dependencies\n",
    "    with tf.control_dependencies([did_assignments_change]):\n",
    "        do_updates = tf.group(\n",
    "            centroids.assign(means),\n",
    "            cluster_assignments.assign(best_centroids))"
   ]
  },
  {
   "cell_type": "code",
   "execution_count": 183,
   "metadata": {
    "collapsed": false
   },
   "outputs": [
    {
     "name": "stdout",
     "output_type": "stream",
     "text": [
      "Working ... 4 clusters in 2.123286015004851 seconds 56 iterations\n",
      "Working .. 4 clusters in 1.205297516018618 seconds 35 iterations\n",
      "Working ... 4 clusters in 1.515310363000026 seconds 43 iterations\n",
      "Working ... 4 clusters in 1.8613371510000434 seconds 54 iterations\n",
      "Working ... 4 clusters in 1.889135391014861 seconds 55 iterations\n",
      "Working ... 4 clusters in 1.6228490810026415 seconds 46 iterations\n",
      "Working ... 4 clusters in 1.9520841219928116 seconds 57 iterations\n",
      "Working ... 4 clusters in 1.9263376820017584 seconds 55 iterations\n",
      "Working ... 4 clusters in 1.8011824430141132 seconds 51 iterations\n",
      "Working ... 4 clusters in 1.8494822369830217 seconds 53 iterations\n",
      "Working ... 4 clusters in 1.925706292007817 seconds 56 iterations\n",
      "Working ... 4 clusters in 1.6322574579971842 seconds 47 iterations\n",
      "Working ... 4 clusters in 2.0043468799849506 seconds 57 iterations\n",
      "Working ... 4 clusters in 1.7660623250121716 seconds 51 iterations\n",
      "Working ... 4 clusters in 1.4976058199827094 seconds 45 iterations\n",
      "Working ... 4 clusters in 1.9256859789893497 seconds 56 iterations\n",
      "Working ... 4 clusters in 1.5972233309876174 seconds 46 iterations\n",
      "Working ... 4 clusters in 1.9323189250135329 seconds 56 iterations\n",
      "Working ... 4 clusters in 1.8807734890142456 seconds 55 iterations\n",
      "Working ... 4 clusters in 1.9176709839957766 seconds 56 iterations\n",
      "Working ... 4 clusters in 1.7661362389917485 seconds 51 iterations\n",
      "Working ... 4 clusters in 1.9685599679942243 seconds 58 iterations\n",
      "Working ... 4 clusters in 1.4479981469921768 seconds 41 iterations\n",
      "Working . 4 clusters in 0.6309719950077124 seconds 18 iterations\n",
      "Working ... 4 clusters in 1.8458319380006287 seconds 55 iterations\n",
      "Working ... 4 clusters in 1.9029384400055278 seconds 56 iterations\n",
      "Working ... 4 clusters in 1.9929441649874207 seconds 58 iterations\n",
      "Working ... 4 clusters in 1.88773713199771 seconds 56 iterations\n",
      "Working ... 4 clusters in 1.4605748739850242 seconds 44 iterations\n",
      "Working ... 4 clusters in 1.9720066900190432 seconds 57 iterations\n",
      "Working ... 4 clusters in 1.9523868490068708 seconds 57 iterations\n",
      "Working ... 4 clusters in 1.4260195089736953 seconds 41 iterations\n",
      "Working ... 4 clusters in 1.909865786001319 seconds 56 iterations\n",
      "Working ... 4 clusters in 1.94433731798199 seconds 57 iterations\n",
      "Working ... 4 clusters in 1.9695382969803177 seconds 57 iterations\n",
      "Working ... 4 clusters in 1.8781847539939918 seconds 55 iterations\n",
      "Working .. 4 clusters in 1.2172426189936232 seconds 34 iterations\n",
      "Working ... 4 clusters in 1.7831351989880204 seconds 52 iterations\n",
      "Working ... 4 clusters in 1.938392431999091 seconds 57 iterations\n",
      "Working ... 4 clusters in 1.9739715439791325 seconds 57 iterations\n",
      "Working ... 4 clusters in 1.6608634650183376 seconds 47 iterations\n",
      "Working ... 4 clusters in 1.8503884789824951 seconds 54 iterations\n",
      "Working ... 4 clusters in 1.5042312479927205 seconds 44 iterations\n",
      "Working ... 4 clusters in 1.846478572988417 seconds 53 iterations\n",
      "Working ... 4 clusters in 1.9048958439962007 seconds 55 iterations\n",
      "Working ... 4 clusters in 1.9435194479883648 seconds 57 iterations\n",
      "Working ... 4 clusters in 1.9006333239958622 seconds 56 iterations\n",
      "Working ... 4 clusters in 1.8362974429910537 seconds 53 iterations\n",
      "Working .. 4 clusters in 1.0264708969916683 seconds 30 iterations\n",
      "Working ... 4 clusters in 1.5023334450088441 seconds 43 iterations\n",
      "Centroids:\n",
      "[[ 1.          2.81591334  0.03357434  0.07389693  0.06184875  0.0206192\n",
      "   0.02009801]\n",
      " [ 1.          2.52701412  0.02998303  0.02804071  0.02945956  0.02154577\n",
      "   0.02185534]\n",
      " [ 1.          2.63422938  0.02761916  0.03205354  0.03003301  0.02001018\n",
      "   0.01999879]\n",
      " [ 0.          2.65465485  0.01905372  0.03090722  0.02950687  0.01450436\n",
      "   0.01280015]]\n",
      "Cluster assignments:  [1 1 1 ..., 1 1 1]\n",
      "Mean total distance to nearest: 0.0011415176818282244\n"
     ]
    }
   ],
   "source": [
    "max_iters = 1000  # stop criterion for k-means algorithm\n",
    "repeats = 200//n_clusters  # number of times to train the same k-means, hoping to find a best result\n",
    "progress = np.int(max_iters/50)\n",
    "centers_hist = []\n",
    "assignments_hist = []\n",
    "mean_hist = []\n",
    "# num_clusters = 4  # blowout, attached, detached, going unstable\n",
    "\n",
    "with tf.Session(graph=kmeans) as sess:\n",
    "    for _ in range(repeats):\n",
    "        print('Working ', end='', flush=True)\n",
    "        tic = timeit.default_timer()\n",
    "        sess.run(tf.initialize_all_variables())\n",
    "        changed = True\n",
    "        iters = 0\n",
    "\n",
    "        # Run k-means loop\n",
    "        while changed and iters < max_iters:\n",
    "            if iters % progress == 0:\n",
    "                print('.', end='', flush=True)\n",
    "            iters += 1\n",
    "            [changed, _] = sess.run([did_assignments_change, do_updates])\n",
    "        toc = timeit.default_timer()\n",
    "        print(\" {} clusters in {} seconds {} iterations\".format(n_clusters, toc-tic, iters))\n",
    "\n",
    "        # Save the results\n",
    "        [centers, assignments] = sess.run([centroids, cluster_assignments])\n",
    "        mean_dist = np.mean([dist[ind] for dist, ind in zip(sum_squares.eval(), assignments)], axis=0)\n",
    "        centers_hist.append(centers)\n",
    "        assignments_hist.append(assignments)\n",
    "        mean_hist.append(mean_dist)\n",
    "    \n",
    "    min_ind = np.argmin(mean_hist)\n",
    "    mean_dist = np.min(mean_hist)\n",
    "    centers = centers_hist[min_ind]\n",
    "    assignments = assignments_hist[min_ind]\n",
    "#     dist_history.append(mean_dist)\n",
    "    print(\"Centroids:\")\n",
    "    print(centers)\n",
    "    print(\"Cluster assignments: \", assignments)\n",
    "    print(\"Mean total distance to nearest: {}\".format(mean_dist))"
   ]
  },
  {
   "cell_type": "code",
   "execution_count": 184,
   "metadata": {
    "collapsed": false
   },
   "outputs": [
    {
     "name": "stdout",
     "output_type": "stream",
     "text": [
      "[[ 0.99630607  0.99488564  0.99789537  1.        ]\n",
      " [ 1.          0.99489217  0.99604326  0.9981982 ]\n",
      " [ 0.99879952  0.99551806  1.          0.99489072]\n",
      " [ 0.99789537  1.          0.99630607  0.99488564]\n",
      " [ 1.          0.99789537  0.99488564  0.99630607]\n",
      " [ 0.99551806  0.99489072  1.          0.99879952]\n",
      " [ 0.99789537  0.99630607  1.          0.99488564]\n",
      " [ 1.          0.99789537  0.99488564  0.99630607]\n",
      " [ 0.99630607  0.99789537  0.99488564  1.        ]\n",
      " [ 0.99488564  0.99789537  1.          0.99630607]\n",
      " [ 0.99789537  0.99488564  1.          0.99630607]\n",
      " [ 0.99879952  1.          0.99489072  0.99551806]\n",
      " [ 0.99630607  0.99789537  1.          0.99488564]\n",
      " [ 0.99488564  0.99630607  1.          0.99789537]\n",
      " [ 0.99879952  1.          0.99489072  0.99551806]\n",
      " [ 0.99630607  0.99789537  0.99488564  1.        ]\n",
      " [ 0.99879952  1.          0.99489072  0.99551806]\n",
      " [ 0.99789537  0.99630607  1.          0.99488564]\n",
      " [ 0.99630607  0.99789537  1.          0.99488564]\n",
      " [ 0.99630607  0.99789537  0.99488564  1.        ]\n",
      " [ 1.          0.99789537  0.99630607  0.99488564]\n",
      " [ 0.99488564  0.99789537  1.          0.99630607]\n",
      " [ 0.99489072  1.          0.99879952  0.99551806]\n",
      " [ 1.          1.          1.          0.        ]\n",
      " [ 0.99488564  0.99789537  1.          0.99630607]\n",
      " [ 0.99789537  0.99488564  0.99630607  1.        ]\n",
      " [ 0.99789537  0.99488564  0.99630607  1.        ]\n",
      " [ 0.99630607  0.99789537  1.          0.99488564]\n",
      " [ 0.99488564  1.          0.99789537  0.99630607]\n",
      " [ 0.99630607  0.99488564  0.99789537  1.        ]\n",
      " [ 0.99789537  0.99630607  1.          0.99488564]\n",
      " [ 0.99489072  0.99879952  0.99551806  1.        ]\n",
      " [ 1.          0.99630607  0.99488564  0.99789537]\n",
      " [ 0.99488564  1.          0.99789537  0.99630607]\n",
      " [ 1.          0.99789537  0.99630607  0.99488564]\n",
      " [ 0.99488564  0.99789537  1.          0.99630607]\n",
      " [ 0.98479205  0.99971755  1.          1.        ]\n",
      " [ 0.99488564  0.99789537  1.          0.99630607]\n",
      " [ 0.99630607  0.99488564  0.99789537  1.        ]\n",
      " [ 0.99488564  1.          0.99789537  0.99630607]\n",
      " [ 0.99551806  0.99489072  0.99879952  1.        ]\n",
      " [ 1.          0.99789537  0.99630607  0.99488564]\n",
      " [ 0.99489072  0.99879952  0.99551806  1.        ]\n",
      " [ 0.99488564  0.99630607  0.99789537  1.        ]\n",
      " [ 0.99488564  0.99630607  1.          0.99789537]\n",
      " [ 1.          0.99630607  0.99789537  0.99488564]\n",
      " [ 0.99488564  1.          0.99630607  0.99789537]\n",
      " [ 0.99488564  0.99789537  1.          0.99630607]\n",
      " [ 0.99487617  1.          0.99630607  0.9978941 ]\n",
      " [ 0.99489072  0.99879952  1.          0.99551806]]\n"
     ]
    }
   ],
   "source": [
    "print(np.array(centers_hist)[:,:,0])"
   ]
  },
  {
   "cell_type": "code",
   "execution_count": 185,
   "metadata": {
    "collapsed": false
   },
   "outputs": [
    {
     "data": {
      "image/png": "[encoded data removed]",
      "text/plain": [
       "<matplotlib.figure.Figure at 0x1101eeba8>"
      ]
     },
     "metadata": {},
     "output_type": "display_data"
    }
   ],
   "source": [
    "plt.figure(figsize=(16, 4))\n",
    "plt.plot(assignments)\n",
    "plt.vlines(blow_outs, -1, n_clusters)\n",
    "plt.ylim((-1, n_clusters))\n",
    "plt.xlim((0, num_samples))\n",
    "plt.show()"
   ]
  },
  {
   "cell_type": "code",
   "execution_count": null,
   "metadata": {
    "collapsed": true
   },
   "outputs": [],
   "source": []
  },
  {
   "cell_type": "code",
   "execution_count": 176,
   "metadata": {
    "collapsed": false
   },
   "outputs": [
    {
     "name": "stdout",
     "output_type": "stream",
     "text": [
      "[0.003633402953533608, 0.0023052109953605455, 0.0011415176818282244, 0.00082087457931507115, 0.00063532573266858092, 0.0005278953763293581]\n"
     ]
    },
    {
     "data": {
      "image/png": "[encoded data removed]",
      "text/plain": [
       "<matplotlib.figure.Figure at 0x1101dd4a8>"
      ]
     },
     "metadata": {},
     "output_type": "display_data"
    }
   ],
   "source": [
    "print(dist_history)\n",
    "plt.figure(figsize=(12,5))\n",
    "plt.plot(range(2, len(dist_history)+2), dist_history, linewidth=2)\n",
    "plt.title('K-means average sum-squared distance to centroid vs. number of centroids')\n",
    "plt.xlabel('Number of centroids, K')\n",
    "plt.ylabel('Average distance to nearest centroid')\n",
    "plt.show()"
   ]
  },
  {
   "cell_type": "code",
   "execution_count": 186,
   "metadata": {
    "collapsed": false
   },
   "outputs": [],
   "source": [
    "centers = np.array(centers)\n",
    "assignments = np.array(assignments)\n",
    "dist_history = np.array(dist_history)"
   ]
  },
  {
   "cell_type": "code",
   "execution_count": 7,
   "metadata": {
    "collapsed": false
   },
   "outputs": [],
   "source": [
    "fname = os.path.join('..', 'Processed', 'K-means_results_{}_centroids.pickle'.format(n_clusters))"
   ]
  },
  {
   "cell_type": "code",
   "execution_count": 1,
   "metadata": {
    "collapsed": false
   },
   "outputs": [
    {
     "ename": "NameError",
     "evalue": "name 'os' is not defined",
     "output_type": "error",
     "traceback": [
      "\u001b[1;31m---------------------------------------------------------------------------\u001b[0m",
      "\u001b[1;31mNameError\u001b[0m                                 Traceback (most recent call last)",
      "\u001b[1;32m<ipython-input-1-7bdb8208d200>\u001b[0m in \u001b[0;36m<module>\u001b[1;34m()\u001b[0m\n\u001b[1;32m----> 1\u001b[1;33m \u001b[0mfname\u001b[0m \u001b[1;33m=\u001b[0m \u001b[0mos\u001b[0m\u001b[1;33m.\u001b[0m\u001b[0mpath\u001b[0m\u001b[1;33m.\u001b[0m\u001b[0mjoin\u001b[0m\u001b[1;33m(\u001b[0m\u001b[1;34m'.'\u001b[0m\u001b[1;33m,\u001b[0m \u001b[1;34m'Processed'\u001b[0m\u001b[1;33m,\u001b[0m \u001b[1;34m'K-means_results_{}_centroids.pickle'\u001b[0m\u001b[1;33m.\u001b[0m\u001b[0mformat\u001b[0m\u001b[1;33m(\u001b[0m\u001b[0mn_clusters\u001b[0m\u001b[1;33m)\u001b[0m\u001b[1;33m)\u001b[0m\u001b[1;33m\u001b[0m\u001b[0m\n\u001b[0m\u001b[0;32m      2\u001b[0m to_pickle = {'centers': centers,\n\u001b[0;32m      3\u001b[0m              \u001b[1;34m'assignments'\u001b[0m\u001b[1;33m:\u001b[0m \u001b[0massignments\u001b[0m\u001b[1;33m,\u001b[0m\u001b[1;33m\u001b[0m\u001b[0m\n\u001b[0;32m      4\u001b[0m              'distance_vs_num_centers': dist_history}\n\u001b[0;32m      5\u001b[0m \u001b[0mpickle\u001b[0m\u001b[1;33m.\u001b[0m\u001b[0mdump\u001b[0m\u001b[1;33m(\u001b[0m\u001b[0mto_pickle\u001b[0m\u001b[1;33m,\u001b[0m \u001b[0mopen\u001b[0m\u001b[1;33m(\u001b[0m\u001b[0mfname\u001b[0m\u001b[1;33m,\u001b[0m \u001b[1;34m'wb'\u001b[0m\u001b[1;33m)\u001b[0m\u001b[1;33m)\u001b[0m\u001b[1;33m\u001b[0m\u001b[0m\n",
      "\u001b[1;31mNameError\u001b[0m: name 'os' is not defined"
     ]
    }
   ],
   "source": [
    "to_pickle = {'centers': centers,\n",
    "             'assignments': assignments,\n",
    "             'distance_vs_num_centers': dist_history}\n",
    "pickle.dump(to_pickle, open(fname, 'wb'))"
   ]
  },
  {
   "cell_type": "code",
   "execution_count": 8,
   "metadata": {
    "collapsed": false
   },
   "outputs": [
    {
     "name": "stdout",
     "output_type": "stream",
     "text": [
      "{'assignments': array([1, 1, 1, ..., 1, 1, 1]), 'centers': array([[ 1.        ,  2.81591334,  0.03357434,  0.07389693,  0.06184875,\n",
      "         0.0206192 ,  0.02009801],\n",
      "       [ 1.        ,  2.52701412,  0.02998303,  0.02804071,  0.02945956,\n",
      "         0.02154577,  0.02185534],\n",
      "       [ 1.        ,  2.63422938,  0.02761916,  0.03205354,  0.03003301,\n",
      "         0.02001018,  0.01999879],\n",
      "       [ 0.        ,  2.65465485,  0.01905372,  0.03090722,  0.02950687,\n",
      "         0.01450436,  0.01280015]]), 'distance_vs_num_centers': array([ 0.0036334 ,  0.00230521,  0.00114152,  0.00082087,  0.00063533,\n",
      "        0.0005279 ])}\n"
     ]
    }
   ],
   "source": [
    "kmeans_data = pickle.load(open(fname, 'rb'))\n",
    "print(kmeans_data)"
   ]
  },
  {
   "cell_type": "code",
   "execution_count": 10,
   "metadata": {
    "collapsed": false
   },
   "outputs": [
    {
     "data": {
      "text/plain": [
       "(42332,)"
      ]
     },
     "execution_count": 10,
     "metadata": {},
     "output_type": "execute_result"
    }
   ],
   "source": [
    "kmeans_data['assignments'].shape"
   ]
  },
  {
   "cell_type": "markdown",
   "metadata": {},
   "source": [
    "# Visualize Clustering\n",
    "\n",
    "Visualize the data ponit clustering with [t-SNE][1]\n",
    "\n",
    "[1]: http://lvdmaaten.github.io/tsne/"
   ]
  },
  {
   "cell_type": "code",
   "execution_count": 24,
   "metadata": {
    "collapsed": false
   },
   "outputs": [
    {
     "data": {
      "text/plain": [
       "(42332, 12)"
      ]
     },
     "execution_count": 24,
     "metadata": {},
     "output_type": "execute_result"
    }
   ],
   "source": [
    "fname = os.path.join('..', 'Processed', 'tSNE_dataset.pickle')\n",
    "dataset = pickle.load(open(fname, 'rb'))\n",
    "dataset['data'].shape"
   ]
  },
  {
   "cell_type": "code",
   "execution_count": 54,
   "metadata": {
    "collapsed": false
   },
   "outputs": [
    {
     "name": "stdout",
     "output_type": "stream",
     "text": [
      "[[ 1.          0.82210712  0.00347287  1.90539265  0.13823419  2.52919102\n",
      "   1.          0.02470229  0.02452491  0.02547168  0.02053213  0.02165319]\n",
      " [ 1.          0.81983404  0.00314814  1.9060421   0.13726001  2.50678493\n",
      "   1.          0.02014168  0.02377203  0.02536654  0.02006923  0.02061006]\n",
      " [ 1.          0.82048349  0.00282342  1.90669155  0.13920837  2.5139289\n",
      "   1.          0.02053943  0.02495976  0.02576064  0.01994754  0.02227426]\n",
      " [ 1.          0.82275657  0.00347287  1.9060421   0.14180617  2.5239954\n",
      "   1.          0.02190999  0.01922343  0.02036909  0.01675647  0.01798007]\n",
      " [ 1.          0.82048349  0.00379759  1.9060421   0.13855891  2.50873329\n",
      "   1.          0.01917183  0.02661078  0.02818813  0.0205611   0.02051865]\n",
      " [ 1.          0.82015876  0.00379759  1.90636682  0.13888364  2.51717616\n",
      "   1.          0.0232448   0.02063994  0.02166557  0.0174074   0.01953536]\n",
      " [ 1.          0.82405547  0.00347287  1.90571737  0.13693528  2.5139289\n",
      "   1.          0.02660757  0.02106445  0.0220922   0.0175688   0.02099159]\n",
      " [ 1.          0.82178239  0.00347287  1.9047432   0.13693528  2.52496958\n",
      "   1.          0.02668618  0.02664234  0.02871826  0.02064715  0.02276745]\n",
      " [ 1.          0.82113294  0.00379759  1.90636682  0.13888364  2.52172232\n",
      "   1.          0.0204985   0.02479385  0.02590654  0.01970235  0.02039409]\n",
      " [ 1.          0.82340602  0.00282342  1.90571737  0.13758474  2.51912452\n",
      "   1.          0.02435689  0.02612261  0.02718079  0.02088423  0.0231648 ]]\n"
     ]
    }
   ],
   "source": [
    "print(dataset['data'][:10, :])"
   ]
  },
  {
   "cell_type": "code",
   "execution_count": null,
   "metadata": {
    "collapsed": false
   },
   "outputs": [],
   "source": [
    "num_points = dataset['data'].shape[0]\n",
    "\n",
    "tsne = TSNE(perplexity=30, n_components=2, init='pca', n_iter=5000)\n",
    "two_d_embeddings = tsne.fit_transform(dataset['data'][:num_points, :])"
   ]
  },
  {
   "cell_type": "code",
   "execution_count": null,
   "metadata": {
    "collapsed": false
   },
   "outputs": [],
   "source": [
    "list0 = two_d_embeddings[dataset['data'][:num_points, 6] == 0]\n",
    "list1 = two_d_embeddings[dataset['data'][:num_points, 6] == 1]\n",
    "list2 = two_d_embeddings[dataset['data'][:num_points, 6] == 2]\n",
    "list3 = two_d_embeddings[dataset['data'][:num_points, 6] == 3]"
   ]
  },
  {
   "cell_type": "code",
   "execution_count": null,
   "metadata": {
    "collapsed": false
   },
   "outputs": [],
   "source": [
    "colors = ('b', 'r', 'y', 'g')\n",
    "plt.figure()\n",
    "cat0 = plt.scatter(list0[:, 0], list0[:, 1], color=colors[0])\n",
    "cat1 = plt.scatter(list1[:, 0], list1[:, 1], color=colors[1])\n",
    "cat2 = plt.scatter(list2[:, 0], list2[:, 1], color=colors[2])\n",
    "cat3 = plt.scatter(list3[:, 0], list3[:, 1], color=colors[3])\n",
    "plt.show()"
   ]
  },
  {
   "cell_type": "code",
   "execution_count": null,
   "metadata": {
    "collapsed": true
   },
   "outputs": [],
   "source": []
  }
 ],
 "metadata": {
  "kernelspec": {
   "display_name": "Python 3",
   "language": "python",
   "name": "python3"
  },
  "language_info": {
   "codemirror_mode": {
    "name": "ipython",
    "version": 3
   },
   "file_extension": ".py",
   "mimetype": "text/x-python",
   "name": "python",
   "nbconvert_exporter": "python",
   "pygments_lexer": "ipython3",
   "version": "3.4.4"
  }
 },
 "nbformat": 4,
 "nbformat_minor": 0
}
