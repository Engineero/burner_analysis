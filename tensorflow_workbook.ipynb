{
 "cells": [
  {
   "cell_type": "code",
   "execution_count": 1,
   "metadata": {
    "collapsed": true
   },
   "outputs": [],
   "source": [
    "import pickle\n",
    "import os\n",
    "import tensorflow as tf\n",
    "import matplotlib.pyplot as plt\n",
    "# import mpl_toolkits.mplot3d as Axes3D\n",
    "\n",
    "from database import *\n",
    "\n",
    "%matplotlib inline"
   ]
  },
  {
   "cell_type": "markdown",
   "metadata": {},
   "source": [
    "# Datasets\n",
    "\n",
    "Generate training, testing, and validation datasets"
   ]
  },
  {
   "cell_type": "code",
   "execution_count": 2,
   "metadata": {
    "collapsed": false
   },
   "outputs": [
    {
     "name": "stdout",
     "output_type": "stream",
     "text": [
      "Number of rows: 42331\n",
      "Keys: ['atmosphericP', 'opPointAct', 'opPointDes', 'temperature', 'staticP', 'dynamicP', 'flameStatus', 'dateTimeStamp']\n",
      "Loading data ................................................... done!\n",
      "Elapsed time: 32.58322612801567 sec\n"
     ]
    }
   ],
   "source": [
    "# Import data from database\n",
    "step = 1/10e3  # microphone sample period, sec\n",
    "mic_list = (\"Ambient\", \"Mic 0\", \"Mic 1\", \"Mic 2\", \"Mic 3\")  # for setting the legend\n",
    "fs = 1/step  # sample rate, Hz\n",
    "\n",
    "# Load data from the database\n",
    "# host = \"mysql.ecn.purdue.edu\"  # 128.46.154.164\n",
    "# user = \"op_point_test\"\n",
    "# database = \"op_point_test\"\n",
    "host = 'localhost'\n",
    "user = 'root'\n",
    "database = 'mysql'\n",
    "table_name = '100_op_point_test'\n",
    "password = 'admin'\n",
    "# with open(\"password.txt\", \"r\") as f:\n",
    "#   password = f.read().rstrip()\n",
    "eng = connect_to_db(host, user, password, database)\n",
    "tic = timeit.default_timer()\n",
    "data = import_data(eng, table_name)\n",
    "toc = timeit.default_timer()\n",
    "if eng.open:\n",
    "    eng.close()\n",
    "print(\"Elapsed time: {} sec\".format(toc-tic))"
   ]
  },
  {
   "cell_type": "code",
   "execution_count": 3,
   "metadata": {
    "collapsed": false
   },
   "outputs": [],
   "source": [
    "# Import processed data from pickle\n",
    "processed_data = []\n",
    "for mic in mic_list:\n",
    "    fname = os.path.join('.', 'Processed', 'short_fft_waterfall_{}.pickle'.format(mic))\n",
    "    processed_data.append(pickle.load(open(fname, 'rb')))"
   ]
  },
  {
   "cell_type": "code",
   "execution_count": 42,
   "metadata": {
    "collapsed": false
   },
   "outputs": [
    {
     "data": {
      "text/plain": [
       "((42332, 11), (42332, 501))"
      ]
     },
     "execution_count": 42,
     "metadata": {},
     "output_type": "execute_result"
    }
   ],
   "source": [
    "dataset = []\n",
    "labelset = []\n",
    "for num in range(data['opPointAct'].shape[0]):\n",
    "    start = num*100\n",
    "#     vec = np.concatenate((data['flameStatus'][num], data['opPointAct'][num], data['temperature'][num],\n",
    "    vec = np.concatenate((data['flameStatus'][num], data['opPointAct'][num], data['staticP'][num],\n",
    "                          np.sum([row['res'][num,:] for row in processed_data], axis=1)), axis=0)\n",
    "#                           np.concatenate([row for row in data['dynamicP'][:, start:start+100]])), axis=0)\n",
    "\n",
    "    dataset.append(vec)\n",
    "    vec = np.concatenate((data['flameStatus'][num],\n",
    "                          np.concatenate([row['res'][num,:] for row in processed_data])), axis=0)\n",
    "    labelset.append(vec)\n",
    "dataset = np.array(dataset)\n",
    "labelset = np.array(labelset)\n",
    "dataset.shape, labelset.shape"
   ]
  },
  {
   "cell_type": "code",
   "execution_count": 34,
   "metadata": {
    "collapsed": false
   },
   "outputs": [],
   "source": [
    "input_size = dataset.shape[1]\n",
    "output_size = labelset.shape[1]\n",
    "num_samples = dataset.shape[0]\n",
    "batch_size = 64\n",
    "num_unrollings = 10"
   ]
  },
  {
   "cell_type": "code",
   "execution_count": 9,
   "metadata": {
    "collapsed": false
   },
   "outputs": [],
   "source": [
    "class BatchGenerator(object):\n",
    "    def __init__(self, data, batch_size, num_unrollings):\n",
    "        self._data = data\n",
    "        self._num_samples = data.shape[0]\n",
    "        self._batch_size = batch_size\n",
    "        self._num_unrollings = num_unrollings\n",
    "        segment = self._num_samples // batch_size\n",
    "        self._offset = 0\n",
    "        self._last_batch = self._next_batch()\n",
    "\n",
    "    def _next_batch(self):\n",
    "        \"\"\"Generate a single batch from the current cursor position in the data.\"\"\"\n",
    "        batch = self._data[self._offset:self._offset+self._batch_size, :]\n",
    "        self._offset += self._batch_size\n",
    "        if self._num_samples - self._offset < self._batch_size:\n",
    "            self._offset = 0\n",
    "        return batch\n",
    "\n",
    "    def next(self):\n",
    "        \"\"\"Generate the next array of batches from the data. The array consists of\n",
    "        the last batch of the previous array, followed by num_unrollings new ones.\n",
    "        \"\"\"\n",
    "        batches = [self._last_batch]\n",
    "        for step in range(self._num_unrollings):\n",
    "            batches.append(self._next_batch())\n",
    "        self._last_batch = batches[-1]\n",
    "        return batches"
   ]
  },
  {
   "cell_type": "code",
   "execution_count": 35,
   "metadata": {
    "collapsed": false
   },
   "outputs": [],
   "source": [
    "train_size = np.int(0.85*num_samples)\n",
    "valid_size = len(dataset) - train_size\n",
    "train_batches = BatchGenerator(dataset[:train_size,:], batch_size, num_unrollings)\n",
    "train_label_batches = BatchGenerator(labelset[:train_size,:], batch_size, num_unrollings)\n",
    "valid_batches = BatchGenerator(dataset[train_size:,:], 1, 1)\n",
    "valid_label_batches = BatchGenerator(labelset[train_size:,:], 1, 1)"
   ]
  },
  {
   "cell_type": "code",
   "execution_count": 36,
   "metadata": {
    "collapsed": true
   },
   "outputs": [],
   "source": [
    "def logprob(predictions, labels):\n",
    "    \"\"\"Log-probability of the true labels in a predicted batch.\"\"\"\n",
    "    predictions[predictions < 1e-10] = 1e-10\n",
    "    return np.sum(np.multiply(labels, -np.log(predictions))) / labels.shape[0]"
   ]
  },
  {
   "cell_type": "markdown",
   "metadata": {},
   "source": [
    "# LSTM RNN Definition\n",
    "\n",
    "Define the long short-term memory (LSTM) recurrent neural network (RNN). Borrowing heavily from the Deep Learning Udacity course."
   ]
  },
  {
   "cell_type": "code",
   "execution_count": null,
   "metadata": {
    "collapsed": false
   },
   "outputs": [],
   "source": [
    "num_nodes = 64  #TODO tune this!\n",
    "num_steps = 1001\n",
    "\n",
    "graph = tf.Graph()\n",
    "with graph.as_default():\n",
    "    # Parameters\n",
    "    # Combined input, forget, memory cell, and output weights for input and previous state. Also biases.\n",
    "    ifcox = tf.Variable(tf.truncated_normal([input_size, 4*num_nodes], 0.0, 1/np.sqrt(input_size)))\n",
    "    ifcom = tf.Variable(tf.truncated_normal([num_nodes, 4*num_nodes], 0.0, 1/np.sqrt(input_size)))\n",
    "    ifcob = tf.Variable(tf.zeros([1, 4*num_nodes]))\n",
    "    # Variables saving state across unrollings.\n",
    "    saved_output = tf.Variable(tf.zeros([batch_size, num_nodes]), trainable=False)\n",
    "    saved_state = tf.Variable(tf.zeros([batch_size, num_nodes]), trainable=False)\n",
    "    # Classifier weights and biases.\n",
    "    w = tf.Variable(tf.truncated_normal([num_nodes, output_size], 0.0, 1/np.sqrt(output_size)))\n",
    "    b = tf.Variable(tf.zeros([output_size]))\n",
    "    \n",
    "    # Create saver\n",
    "    saver = tf.train.Saver()\n",
    "    \n",
    "    # Definition of the cell computation\n",
    "    def lstm_cell(i, o, state):\n",
    "        \"\"\"Create a LSTM cell. See e.g.: http://arxiv.org/pdf/1402.1128v1.pdf\n",
    "        Note that in this formulation, we omit the various connections between the\n",
    "        previous state and the gates.\"\"\"\n",
    "        combined = tf.matmul(i, ifcox) + tf.matmul(o, ifcom) + ifcob\n",
    "        input_gate = tf.sigmoid(combined[:, :num_nodes])\n",
    "        forget_gate = tf.sigmoid(combined[:, num_nodes:2*num_nodes])\n",
    "        update = combined[:, 2*num_nodes:3*num_nodes]\n",
    "        state = forget_gate * state + input_gate * tf.tanh(update)\n",
    "        output_gate = tf.sigmoid(combined[:, 3*num_nodes:])\n",
    "        return output_gate * tf.tanh(state), state\n",
    "    \n",
    "    # Input data\n",
    "    train_data = list()\n",
    "    train_labels = list()\n",
    "    for _ in range(num_unrollings + 1):\n",
    "        train_data.append(tf.placeholder(tf.float32, shape=[batch_size, input_size]))\n",
    "        train_labels.append(tf.placeholder(tf.float32, shape=[batch_size, output_size]))\n",
    "    train_inputs = train_data[:num_unrollings]\n",
    "    train_outputs = train_labels[1:]  # labels are shifted by one time step.\n",
    "    \n",
    "    # Unrolled LSTM loop\n",
    "    outputs = list()\n",
    "    output = saved_output\n",
    "    state = saved_state\n",
    "    for i in train_inputs:\n",
    "        output, state = lstm_cell(i, output, state)\n",
    "        outputs.append(output)\n",
    "    \n",
    "    # Saving state across unrollings\n",
    "    with tf.control_dependencies([saved_output.assign(output),\n",
    "                                  saved_state.assign(state)]):\n",
    "        # Classifier.\n",
    "        logits = tf.nn.xw_plus_b(tf.concat(0, outputs), w, b)\n",
    "        loss = tf.reduce_mean(tf.nn.softmax_cross_entropy_with_logits(logits,\n",
    "                tf.concat(0, train_outputs)))\n",
    "    \n",
    "    # Optimizer\n",
    "    global_step = tf.Variable(0)\n",
    "    learning_rate = tf.train.exponential_decay(10.0, global_step, 2*num_steps//3, 0.1, staircase=True)\n",
    "    optimizer = tf.train.GradientDescentOptimizer(learning_rate)\n",
    "    gradients, v = zip(*optimizer.compute_gradients(loss))\n",
    "    gradients, _ = tf.clip_by_global_norm(gradients, 1.25)\n",
    "    optimizer = optimizer.apply_gradients(zip(gradients, v), global_step=global_step)\n",
    "    \n",
    "    # Predictions\n",
    "    train_prediction = tf.nn.softmax(logits)\n",
    "    \n",
    "    # Sampling and validation eval: batch 1, no unrolling.\n",
    "    sample_input = tf.placeholder(tf.float32, shape=[1, input_size])\n",
    "    saved_sample_output = tf.Variable(tf.zeros([1, num_nodes]))\n",
    "    saved_sample_state = tf.Variable(tf.zeros([1, num_nodes]))\n",
    "    reset_sample_state = tf.group(saved_sample_output.assign(tf.zeros([1, num_nodes])),\n",
    "            saved_sample_state.assign(tf.zeros([1, num_nodes])))\n",
    "    sample_output, sample_state = lstm_cell(sample_input, saved_sample_output,\n",
    "            saved_sample_state)\n",
    "    with tf.control_dependencies([saved_sample_output.assign(sample_output),\n",
    "                                  saved_sample_state.assign(sample_state)]):\n",
    "        sample_prediction = tf.nn.softmax(tf.nn.xw_plus_b(sample_output, w, b))"
   ]
  },
  {
   "cell_type": "markdown",
   "metadata": {},
   "source": [
    "# Run\n",
    "\n",
    "Train the network on the dataset and observe the performance"
   ]
  },
  {
   "cell_type": "code",
   "execution_count": null,
   "metadata": {
    "collapsed": false
   },
   "outputs": [],
   "source": [
    "summary_frequency = 100\n",
    "mean_loss = 0\n",
    "\n",
    "with tf.Session(graph=graph) as session:\n",
    "    tf.initialize_all_variables().run()\n",
    "    print('Initialized.')\n",
    "    for step in range(num_steps):\n",
    "        # Generate next training batch\n",
    "        batches = train_batches.next()\n",
    "        labels = train_label_batches.next()\n",
    "        \n",
    "        # Generate feed_dict\n",
    "        feed_dict = dict()\n",
    "        for i in range(num_unrollings + 1):\n",
    "            feed_dict[train_data[i]] = batches[i]\n",
    "            feed_dict[train_labels[i]] = labels[i]\n",
    "        _, l, predictions, lr = session.run(\n",
    "                [optimizer, loss, train_prediction, learning_rate], feed_dict=feed_dict)\n",
    "        mean_loss += l\n",
    "        \n",
    "        # Update to the user periodically\n",
    "        if step % summary_frequency == 0:\n",
    "            # Output some information about our training performance\n",
    "            if step > 0:\n",
    "                mean_loss = mean_loss / summary_frequency\n",
    "            # The mean loss is an estimate of the loss over the last few batches.\n",
    "            print('Average loss at step {}: {} learning rate: {}'.format(step, mean_loss, lr))\n",
    "            mean_loss = 0\n",
    "            print('Minibatch perplexity: {}'.format(float(np.exp(logprob(predictions,\n",
    "                    np.concatenate(labels[1:], axis=0))))))\n",
    "\n",
    "    # Measure validation set perplexity.\n",
    "    reset_sample_state.run()\n",
    "    valid_logprob = 0\n",
    "    for num in range(valid_size):\n",
    "        b = valid_batches.next()\n",
    "        l = valid_label_batches.next()\n",
    "        predictions = sample_prediction.eval({sample_input: b[0]})\n",
    "        valid_logprob = valid_logprob + logprob(predictions, l[1])\n",
    "    print('Validation set perplexity: {}'.format(float(np.exp(valid_logprob / valid_size))))\n",
    "    \n",
    "    save_path = saver.save(session, './tmp/model.ckpt')\n",
    "    print('Model saved in file: {}'.format(save_path))"
   ]
  },
  {
   "cell_type": "markdown",
   "metadata": {},
   "source": [
    "# Analyze\n",
    "\n",
    "Analyze the performance and see what we can do with it"
   ]
  },
  {
   "cell_type": "code",
   "execution_count": null,
   "metadata": {
    "collapsed": false
   },
   "outputs": [],
   "source": [
    "#TODO\n",
    "with tf.Session(graph=graph) as session:\n",
    "    saver.restore(session, './tmp/model.ckpt')\n",
    "    print('Model restored.')\n",
    "    reset_sample_state.run()\n",
    "    valid_logprob = 0\n",
    "    for num in range(10):\n",
    "        b = valid_batches.next()\n",
    "        l = valid_label_batches.next()\n",
    "        predictions = sample_prediction.eval({sample_input: b[0]})\n",
    "        valid_logprob = logprob(predictions, l[1])\n",
    "        print('Logprob prediction accuracy: {}'.format(np.exp(valid_logprob)))"
   ]
  },
  {
   "cell_type": "markdown",
   "metadata": {},
   "source": [
    "# K-means clustering of dataset\n",
    "\n",
    "Attempt to divide the data into `n` seperable clusters."
   ]
  },
  {
   "cell_type": "code",
   "execution_count": 22,
   "metadata": {
    "collapsed": false
   },
   "outputs": [
    {
     "name": "stdout",
     "output_type": "stream",
     "text": [
      "[403, 1004, 1310, 1711, 2919, 4018, 4523, 5524, 6225, 7226, 7527, 8766, 9967, 10506, 12018, 13219, 13922, 14447, 14453, 15045, 15046, 16039, 17120, 19823, 20324, 20330, 20742, 21487, 22683, 23789, 24305, 24807, 25495, 26014, 27343, 28557, 28864, 29743, 30096, 30798, 32015, 32221, 33522, 33723, 35035, 35446, 36522, 37428, 37742, 38451, 38903, 39704, 39705, 40212, 40213, 40219, 41358]\n"
     ]
    }
   ],
   "source": [
    "blow_outs = [ind for ind in range(num_samples) if dataset[ind, 0] == 0]\n",
    "print(blow_outs)"
   ]
  },
  {
   "cell_type": "code",
   "execution_count": 78,
   "metadata": {
    "collapsed": false
   },
   "outputs": [],
   "source": [
    "# num_samples = 1000\n",
    "num_samples = dataset.shape[0]\n",
    "\n",
    "def configure_kmeans(num_clusters):\n",
    "    def choose_random_centroids(samples, num_clusters):\n",
    "        # Step 0: Initialisation: Select `n_clusters` number of random points\n",
    "        random_indices = tf.random_shuffle(tf.range(0, num_samples))\n",
    "        begin = [0,]\n",
    "        size = [num_clusters,]\n",
    "        size[0] = num_clusters\n",
    "        centroid_indices = tf.slice(random_indices, begin, size)\n",
    "        initial_centroids = tf.gather(samples, centroid_indices)\n",
    "        return initial_centroids\n",
    "\n",
    "    points = tf.constant(dataset[:num_samples])\n",
    "    cluster_assignments = tf.Variable(tf.zeros([num_samples], dtype=tf.int64))\n",
    "\n",
    "    # Silly initialization:  Use the first K points as the starting\n",
    "    # centroids.  In the real world, do this better.\n",
    "    centroids = tf.Variable(choose_random_centroids(points, num_clusters))\n",
    "\n",
    "    # Replicate to N copies of each centroid and K copies of each\n",
    "    # point, then subtract and compute the sum of squared distances.\n",
    "    rep_centroids = tf.reshape(tf.tile(centroids, [num_samples, 1]), [num_samples, num_clusters, input_size])\n",
    "    rep_points = tf.reshape(tf.tile(points, [1, num_clusters]), [num_samples, num_clusters, input_size])\n",
    "\n",
    "    #TODO modify the cost function for k-means clustering.\n",
    "    sum_squares = tf.reduce_sum(tf.square(rep_points - rep_centroids),\n",
    "                                reduction_indices=2)\n",
    "\n",
    "    # Use argmin to select the lowest-distance point\n",
    "    best_centroids = tf.argmin(sum_squares, 1)\n",
    "    did_assignments_change = tf.reduce_any(tf.not_equal(best_centroids, \n",
    "                                                        cluster_assignments))\n",
    "\n",
    "    def bucket_mean(data, bucket_ids, num_buckets):\n",
    "        total = tf.unsorted_segment_sum(data, bucket_ids, num_buckets)\n",
    "        count = tf.unsorted_segment_sum(tf.ones_like(data), bucket_ids, num_buckets)\n",
    "        return total / count\n",
    "\n",
    "    means = bucket_mean(points, best_centroids, num_clusters)\n",
    "\n",
    "    # Do not write to the assigned clusters variable until after\n",
    "    # computing whether the assignments have changed - hence with_dependencies\n",
    "    with tf.control_dependencies([did_assignments_change]):\n",
    "        do_updates = tf.group(\n",
    "            centroids.assign(means),\n",
    "            cluster_assignments.assign(best_centroids))"
   ]
  },
  {
   "cell_type": "code",
   "execution_count": 79,
   "metadata": {
    "collapsed": false
   },
   "outputs": [
    {
     "name": "stdout",
     "output_type": "stream",
     "text": [
      "Working ......... done!\n",
      "Found in 2.746414817025652 seconds 18 iterations\n",
      "Centroids:\n",
      "[[  9.96938065e-01   2.77444685e+00   1.49156589e+00   1.56837821e+00\n",
      "    9.31021181e-01   2.76599121e+00   1.38914030e-04   1.39178776e-04\n",
      "    1.39178812e-04   1.39178832e-04   1.39178752e-04]\n",
      " [  9.97766860e-01   1.57061957e+00   9.84775647e-02   1.01027822e+00\n",
      "    1.31353030e+00   2.57201901e+00   1.56940269e-07   3.60386116e-14\n",
      "    2.07454961e-14   4.23981200e-15   1.70869745e-11]\n",
      " [  9.98940927e-01   1.42439271e+00   9.03235507e-01   9.17238897e-01\n",
      "    5.16061334e-01   2.55517494e+00   4.81250452e-09   4.70089025e-11\n",
      "    3.67898161e-11   1.64628280e-11   8.32986027e-11]\n",
      " [  9.99278337e-01   1.06603102e+00   1.54763318e-01   1.69489035e+00\n",
      "    3.05379871e-01   2.52414439e+00   5.23070161e-08   4.26334737e-13\n",
      "    1.19921140e-13   2.22613278e-14   2.71405263e-12]]\n",
      "Cluster assignments:  [3 3 3 ..., 2 2 2]\n"
     ]
    }
   ],
   "source": [
    "max_iters = 100  # stop criterion for k-means algorithm\n",
    "progress = np.int(max_iters/50)\n",
    "num_clusters = 4  # blowout, attached, detached, going unstable\n",
    "\n",
    "configure_kmeans(num_clusters)\n",
    "\n",
    "with tf.Session() as sess:\n",
    "    print('Working ', end='', flush=True)\n",
    "    tic = timeit.default_timer()\n",
    "    sess.run(tf.initialize_all_variables())\n",
    "    changed = True\n",
    "    iters = 0\n",
    "    mean_history = []\n",
    "    \n",
    "    # Run k-means loop\n",
    "    while changed and iters < max_iters:\n",
    "        if iters % progress == 0:\n",
    "            print('.', end='', flush=True)\n",
    "        iters += 1\n",
    "        [changed, _] = sess.run([did_assignments_change, do_updates])\n",
    "        mean_history.append(sum_squares.eval())\n",
    "    print(' done!')\n",
    "    \n",
    "    # Output the results\n",
    "    [centers, assignments] = sess.run([centroids, cluster_assignments])\n",
    "    toc = timeit.default_timer()\n",
    "    print(\"Found in {} seconds {} iterations\".format(toc-tic, iters))\n",
    "    print(\"Centroids:\")\n",
    "    print(centers)\n",
    "    print(\"Cluster assignments: \", assignments)"
   ]
  },
  {
   "cell_type": "code",
   "execution_count": 80,
   "metadata": {
    "collapsed": false
   },
   "outputs": [
    {
     "name": "stdout",
     "output_type": "stream",
     "text": [
      "[ 4.44546768  1.69499691  1.60835759  1.7732689 ]\n"
     ]
    },
    {
     "data": {
      "image/png": "[encoded data removed]",
      "text/plain": [
       "<matplotlib.figure.Figure at 0x125cd3d68>"
      ]
     },
     "metadata": {},
     "output_type": "display_data"
    }
   ],
   "source": [
    "print(np.mean(mean_history[0], axis=0))\n",
    "plt.figure(figsize=(16, 4))\n",
    "plt.plot(assignments)\n",
    "plt.vlines(blow_outs, -1, num_clusters+1)\n",
    "plt.ylim((-1, num_clusters+1))\n",
    "plt.show()"
   ]
  },
  {
   "cell_type": "code",
   "execution_count": null,
   "metadata": {
    "collapsed": true
   },
   "outputs": [],
   "source": [
    "#TODO plot the total average distance to nearest centroid vs. number of centroids"
   ]
  }
 ],
 "metadata": {
  "kernelspec": {
   "display_name": "Python 3",
   "language": "python",
   "name": "python3"
  },
  "language_info": {
   "codemirror_mode": {
    "name": "ipython",
    "version": 3
   },
   "file_extension": ".py",
   "mimetype": "text/x-python",
   "name": "python",
   "nbconvert_exporter": "python",
   "pygments_lexer": "ipython3",
   "version": "3.5.1"
  }
 },
 "nbformat": 4,
 "nbformat_minor": 0
}
